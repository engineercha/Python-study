{
  "nbformat": 4,
  "nbformat_minor": 0,
  "metadata": {
    "colab": {
      "name": "day7_알파벳정렬과_자판기",
      "provenance": [],
      "collapsed_sections": [],
      "authorship_tag": "ABX9TyNfSoL1lkk0h8Qe7k+8r+tu",
      "include_colab_link": true
    },
    "kernelspec": {
      "name": "python3",
      "display_name": "Python 3"
    },
    "language_info": {
      "name": "python"
    }
  },
  "cells": [
    {
      "cell_type": "markdown",
      "metadata": {
        "id": "view-in-github",
        "colab_type": "text"
      },
      "source": [
        "<a href=\"https://colab.research.google.com/github/engineercha/Python-study/blob/master/day7_%EC%95%8C%ED%8C%8C%EB%B2%B3%EC%A0%95%EB%A0%AC%EA%B3%BC_%EC%9E%90%ED%8C%90%EA%B8%B0.ipynb\" target=\"_parent\"><img src=\"https://colab.research.google.com/assets/colab-badge.svg\" alt=\"Open In Colab\"/></a>"
      ]
    },
    {
      "cell_type": "markdown",
      "metadata": {
        "id": "1ESAgY2jVsZW"
      },
      "source": [
        "####영단어의 알파벳 오름차순 정리\n",
        "\n",
        "영어 단어를 입력받고, 단어에 사용된 알파벳을 중복없이 오름차순으로 정렬하여 출력해보세요.\n",
        "\n",
        "- 리스트가 아닌 묶음 자료형을 활용\n",
        "- 출력은 리스트 형태로"
      ]
    },
    {
      "cell_type": "code",
      "metadata": {
        "colab": {
          "base_uri": "https://localhost:8080/"
        },
        "id": "OSbN268PVlOj",
        "outputId": "2abbcd8f-2a65-44af-d0c0-862be7e0c71f"
      },
      "source": [
        "while True:\n",
        "    word=input(\"영단어를 입력하세요(0:종료): \")\n",
        "    if word=='0': break\n",
        "    a=set(word)\n",
        "    b=sorted(a)\n",
        "    print(b)"
      ],
      "execution_count": 25,
      "outputs": [
        {
          "output_type": "stream",
          "text": [
            "영단어를 입력하세요(0:종료): hello\n",
            "['e', 'h', 'l', 'o']\n",
            "영단어를 입력하세요(0:종료): my name is\n",
            "[' ', 'a', 'e', 'i', 'm', 'n', 's', 'y']\n",
            "영단어를 입력하세요(0:종료): christmas\n",
            "['a', 'c', 'h', 'i', 'm', 'r', 's', 't']\n",
            "영단어를 입력하세요(0:종료): 0\n"
          ],
          "name": "stdout"
        }
      ]
    },
    {
      "cell_type": "markdown",
      "metadata": {
        "id": "706Oidq3Xt9o"
      },
      "source": [
        "####음료수 자판기\n",
        "\n",
        "음료수의 가격과 개수에 따라 판매를 진행하는 자판기를 만들어보세요.\n",
        "\n",
        "- 딕셔너리 자료형을 활용\n",
        "- 각 음료에는 가격, 개수의 정보가 존재\n",
        "- 소지금을 입력받고, 음료 구매에 성공했을 시 잔액 출력\n",
        "- 음료가 0개일 시 품절이라고 출력\n",
        "\n",
        "콜라의 가격은 1000원입니다.\n",
        "현재 해당 음료는 품절 상태입니다.\n",
        "돈이 부족합니다."
      ]
    },
    {
      "cell_type": "code",
      "metadata": {
        "colab": {
          "base_uri": "https://localhost:8080/"
        },
        "id": "sI47M_cJYApT",
        "outputId": "341f5d03-cce1-4794-99fc-16e97e70554f"
      },
      "source": [
        "#전역변수 선언\n",
        "price = {\"물\" : 700, \"콜라\" : 1000, \"사이다\" : 1000, \"과일주스\" : 800}\n",
        "quantity = {\"물\" : 5, \"콜라\" : 4, \"사이다\" : 3, \"과일주스\" : 1}\n",
        "count=0\n",
        "\n",
        "#자판기 출력\n",
        "print(\"=============자판기=============\")\n",
        "print(\"🥛\\t🥤\\t🧊\\t🧃\")\n",
        "drinks=list(price.keys())\n",
        "prices=list(price.values())\n",
        "for i in range(4): print(drinks[i], end='\\t')\n",
        "print()\n",
        "for i in range(4): print(prices[i], end='\\t')\n",
        "print()\n",
        "print(\"================================\")\n",
        "\n",
        "#메인함수\n",
        "while True:\n",
        "    if count==0: money=int(input(\"소지한 금액을 입력하세요: \")) #처음에만 소지금 입력\n",
        "    else: money=change                                          #나중에는 잔돈을 소지금 취급\n",
        "    \n",
        "    if money==0: break\n",
        "    drink=input(\"구매할 음료를 입력하세요: \")\n",
        "    \n",
        "    if drink in list(price.keys()):\n",
        "        print(\"%s의 가격은 %d원입니다.\" %(drink, price[drink]))\n",
        "        if money >= price[drink]:\n",
        "            change=money-price[drink]\n",
        "            print(\"잔돈은 %d원입니다.\" %change)\n",
        "            quantity[drink]-=1\n",
        "        elif quantity[drink]==0: print(\"품절입니다.\"); continue\n",
        "        else: print(\"돈이 부족합니다.\"); break\n",
        "    else: continue                                                  #음료 잘못 입력시 재입력\n",
        "\n",
        "    count+=1"
      ],
      "execution_count": 24,
      "outputs": [
        {
          "output_type": "stream",
          "text": [
            "=============자판기=============\n",
            "🥛\t🥤\t🧊\t🧃\n",
            "물\t콜라\t사이다\t과일주스\t\n",
            "700\t1000\t1000\t800\t\n",
            "================================\n",
            "소지한 금액을 입력하세요: 3000\n",
            "구매할 음료를 입력하세요: 물\n",
            "물의 가격은 700원입니다.\n",
            "잔돈은 2300원입니다.\n",
            "구매할 음료를 입력하세요: 불\n",
            "구매할 음료를 입력하세요: 콜라\n",
            "콜라의 가격은 1000원입니다.\n",
            "잔돈은 1300원입니다.\n",
            "구매할 음료를 입력하세요: 사이다\n",
            "사이다의 가격은 1000원입니다.\n",
            "잔돈은 300원입니다.\n",
            "구매할 음료를 입력하세요: 과일주스\n",
            "과일주스의 가격은 800원입니다.\n",
            "돈이 부족합니다.\n"
          ],
          "name": "stdout"
        }
      ]
    }
  ]
}