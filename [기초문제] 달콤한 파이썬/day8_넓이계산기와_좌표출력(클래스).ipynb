{
  "nbformat": 4,
  "nbformat_minor": 0,
  "metadata": {
    "colab": {
      "name": "day8_넓이계산기와_좌표출력(클래스).ipynb",
      "provenance": [],
      "collapsed_sections": []
    },
    "kernelspec": {
      "name": "python3",
      "display_name": "Python 3"
    },
    "language_info": {
      "name": "python"
    }
  },
  "cells": [
    {
      "cell_type": "markdown",
      "metadata": {
        "id": "Woj2ruHYgshc"
      },
      "source": [
        "####직사각형 넓이와 둘레\n",
        "\n",
        "직사각형에 대한 클래스를 만들고, 가로와 세로 길이를 입력받아 그에 대한 넓이와 둘레를 출력해보세요.\n",
        "\n",
        "- 클래스에서 생성자를 통해 가로, 세로 길이를 초기화\n",
        "- 클래스 내에 둘레와 넓이를 구하는 기능은 메소드를 포함"
      ]
    },
    {
      "cell_type": "code",
      "metadata": {
        "colab": {
          "base_uri": "https://localhost:8080/"
        },
        "id": "t2pborXbgq3B",
        "outputId": "24cabbad-a859-4011-de77-1c80eda7074e"
      },
      "source": [
        "class rectangle:\n",
        "    width=0\n",
        "    height=0\n",
        "    def __init__(self,ga,se):   #self는 setdata 함수를 불러온 객체 a를 전달\n",
        "        self.ga=width\n",
        "        self.se=height\n",
        "\n",
        "    def round(self): return 2*(self.ga+self.se)\n",
        "    def area(self): return self.ga*self.se\n",
        "    def result(self): print(\"직사각형의 둘레는 %d, 넓이는 %d입니다.\" %(self.round(), self.area()))\n",
        "\n",
        "#메인코드\n",
        "width=int(input(\"가로 길이: \"))\n",
        "height=int(input(\"세로 길이: \"))\n",
        "\n",
        "a=rectangle(width,height)        #a=rectangle() + a.setdata(width,height)\n",
        "a.result()"
      ],
      "execution_count": 13,
      "outputs": [
        {
          "output_type": "stream",
          "text": [
            "가로 길이: 4\n",
            "세로 길이: 29\n",
            "직사각형의 둘레는 66, 넓이는 116입니다.\n"
          ],
          "name": "stdout"
        }
      ]
    },
    {
      "cell_type": "markdown",
      "metadata": {
        "id": "wjJU8cHejoTE"
      },
      "source": [
        "####좌표 설정하기\n",
        "\n",
        "좌표를 설정할 수 있는 클래스를 작성하고, 해당 클래스의 인스턴스를 생성하여 활용해보세요.\n",
        "\n",
        "- 클래스는 생성자를 통해 (x, y) 좌표 초기화\n",
        "- 아래와 같은 기능의 메소드 포함\n",
        "    1. x좌표만 설정\n",
        "    2. y좌표만 설정\n",
        "    3. (x, y) 좌표를 반환\n",
        "    4. (x, y)좌표를 (dx, dy)만큼 이동\n",
        "- 반복문과 조건문을 통해 좌표 이동을 진행. 좌표 이동이 종료되면 현재 좌표를 출력"
      ]
    },
    {
      "cell_type": "code",
      "metadata": {
        "colab": {
          "base_uri": "https://localhost:8080/"
        },
        "id": "aoEb3MExjyzW",
        "outputId": "10477668-eb95-4445-9994-53271e3bc44b"
      },
      "source": [
        "class coordinate:\n",
        "    def __init__(self,x,y):\n",
        "        self.x=x; self.y=y\n",
        "    def move(self):\n",
        "        print(\"x좌표 설정을 원한다면 x, y좌표 설정을 원한다면 y, 좌표 이동을 원한다면 m, 종료하려면 0을 입력하세요.\")\n",
        "        while True:                     #옵션 입력과 수행 반복\n",
        "            while True:                 #올바른 옵션 입력할 때까지 입력 반복\n",
        "                opt=input(\"입력: \")\n",
        "                if len(opt)==1 and opt in \"xXyYmM0\": break\n",
        "            if opt in \"xX\":\n",
        "                newx=int(input(\"새 x좌표: \"))\n",
        "                self.x=newx            \n",
        "            elif opt in \"yY\":\n",
        "                newy=int(input(\"새 z좌표: \"))\n",
        "                self.y=newy\n",
        "            elif opt in \"mM\":\n",
        "                movex=int(input(\"몇 만큼 x좌표 이동: \"))\n",
        "                movey=int(input(\"몇 만큼 y좌표 이동: \"))\n",
        "                self.x+=movex; self.y+=movey\n",
        "            else: break                 #0 입력시 while문 종료\n",
        "        \n",
        "    def update(self): print(\"현재좌표: (%d,%d)\" %(self.x, self.y))\n",
        "\n",
        "x=int(input(\"x좌표: \").strip())\n",
        "y=int(input(\"y좌표: \").strip())\n",
        "a=coordinate(x,y)\n",
        "a.move(); a.update()"
      ],
      "execution_count": 16,
      "outputs": [
        {
          "output_type": "stream",
          "text": [
            "x좌표: 4\n",
            "y좌표: 3\n",
            "x좌표 설정을 원한다면 x, y좌표 설정을 원한다면 y, 좌표 이동을 원한다면 m, 종료하려면 0을 입력하세요.\n",
            "입력: m\n",
            "몇 만큼 x좌표 이동: 2\n",
            "몇 만큼 y좌표 이동: -1\n",
            "입력: x\n",
            "새 x좌표: 100\n",
            "입력: 0\n",
            "현재좌표: (100,2)\n"
          ],
          "name": "stdout"
        }
      ]
    }
  ]
}