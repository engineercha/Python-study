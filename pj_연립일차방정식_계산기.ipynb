{
  "nbformat": 4,
  "nbformat_minor": 0,
  "metadata": {
    "colab": {
      "name": "pj_연립일차방정식_계산기.ipynb",
      "provenance": [],
      "collapsed_sections": [],
      "authorship_tag": "ABX9TyMVFNOMb+WR26Eo3ssP5V+s",
      "include_colab_link": true
    },
    "kernelspec": {
      "name": "python3",
      "display_name": "Python 3"
    }
  },
  "cells": [
    {
      "cell_type": "markdown",
      "metadata": {
        "id": "view-in-github",
        "colab_type": "text"
      },
      "source": [
        "<a href=\"https://colab.research.google.com/github/engineercha/Python-study/blob/master/pj_%EC%97%B0%EB%A6%BD%EC%9D%BC%EC%B0%A8%EB%B0%A9%EC%A0%95%EC%8B%9D_%EA%B3%84%EC%82%B0%EA%B8%B0.ipynb\" target=\"_parent\"><img src=\"https://colab.research.google.com/assets/colab-badge.svg\" alt=\"Open In Colab\"/></a>"
      ]
    },
    {
      "cell_type": "code",
      "metadata": {
        "id": "SRAVkLapCCnu"
      },
      "source": [
        "import numpy as np\r\n",
        "import matplotlib.pyplot as plt\r\n",
        "import random"
      ],
      "execution_count": 88,
      "outputs": []
    },
    {
      "cell_type": "code",
      "metadata": {
        "colab": {
          "base_uri": "https://localhost:8080/"
        },
        "id": "vfYNFs4FCNiQ",
        "outputId": "9110e1ba-1d02-4c40-f416-d8a64ab46a6c"
      },
      "source": [
        "#x나 y의 계수가 1인 일차방정식 a\r\n",
        "while True:\r\n",
        "  a=np.array([random.randrange(11) for i in range(3)])\r\n",
        "  if 1 in a[:2]: break\r\n",
        "a"
      ],
      "execution_count": 89,
      "outputs": [
        {
          "output_type": "execute_result",
          "data": {
            "text/plain": [
              "array([ 1, 10,  9])"
            ]
          },
          "metadata": {
            "tags": []
          },
          "execution_count": 89
        }
      ]
    },
    {
      "cell_type": "code",
      "metadata": {
        "colab": {
          "base_uri": "https://localhost:8080/"
        },
        "id": "_3zcCL3XCOvH",
        "outputId": "7c992539-ae6f-4a45-b761-862d25a77066"
      },
      "source": [
        "#일차방정식 b\r\n",
        "while True:\r\n",
        "  b=np.array([random.randrange(11) for i in range(3)])\r\n",
        "  if list(b).count(0) < 2: break\r\n",
        "b"
      ],
      "execution_count": 90,
      "outputs": [
        {
          "output_type": "execute_result",
          "data": {
            "text/plain": [
              "array([ 5, 10,  7])"
            ]
          },
          "metadata": {
            "tags": []
          },
          "execution_count": 90
        }
      ]
    },
    {
      "cell_type": "code",
      "metadata": {
        "colab": {
          "base_uri": "https://localhost:8080/"
        },
        "id": "SVq8oMCGAU5_",
        "outputId": "268894c4-31d9-412a-d16d-718864147c30"
      },
      "source": [
        "#Linear system\r\n",
        "print(f'{a[0]}x + {a[1]}y = {a[2]}')\r\n",
        "print(f'{b[0]}x + {b[1]}y = {b[2]}')"
      ],
      "execution_count": 91,
      "outputs": [
        {
          "output_type": "stream",
          "text": [
            "1x + 10y = 9\n",
            "5x + 10y = 7\n"
          ],
          "name": "stdout"
        }
      ]
    },
    {
      "cell_type": "code",
      "metadata": {
        "colab": {
          "base_uri": "https://localhost:8080/"
        },
        "id": "u_a0JYUSS4VU",
        "outputId": "8efdf2a0-6303-46a0-af14-d0a733aa5bd3"
      },
      "source": [
        "#Augmented matrix\r\n",
        "c=np.vstack([a, b])\r\n",
        "c"
      ],
      "execution_count": 92,
      "outputs": [
        {
          "output_type": "execute_result",
          "data": {
            "text/plain": [
              "array([[ 1, 10,  9],\n",
              "       [ 5, 10,  7]])"
            ]
          },
          "metadata": {
            "tags": []
          },
          "execution_count": 92
        }
      ]
    },
    {
      "cell_type": "markdown",
      "metadata": {
        "id": "Hu7gKIATze0N"
      },
      "source": [
        "##Random\r\n",
        "- np.random.**randint** 균일 분포의 정수 난수 1개 생성\r\n",
        "- np.random.**rand** 0~1 균일 분포에서 난수 matrix array 생성\r\n",
        "- np.random.**randn** 가우시안 표준정규분포에서에서 난수 matrix array 생성\r\n",
        "\r\n",
        "random.shuffle(기존의 데이터 순서 바꾸기), random.choice(기존의 데이터 중 샘플링), unique(중복되지 않은 값 리스트 출력)"
      ]
    },
    {
      "cell_type": "code",
      "metadata": {
        "colab": {
          "base_uri": "https://localhost:8080/"
        },
        "id": "oZ8bc0tUCQ07",
        "outputId": "67d317ef-a3ed-4662-a932-1430369cf20c"
      },
      "source": [
        "idx=[i for i in range(-10,11) if i!=0]\r\n",
        "idx.reverse()\r\n",
        "for i in idx:\r\n",
        "  A=a*i\r\n",
        "  B=b*i\r\n",
        "  constant=i\r\n",
        "  if A[0]==b[0] or A[1]==b[1]:\r\n",
        "    sol=A-b\r\n",
        "    break\r\n",
        "  elif A[0]==-b[0] or A[1]==-b[1]:\r\n",
        "    sol=A+b\r\n",
        "    break\r\n",
        "  elif B[0]==a[0] or B[1]==a[1]:\r\n",
        "    sol=B-a\r\n",
        "    break\r\n",
        "  elif B[0]==-a[0] or B[1]==-a[1]:\r\n",
        "    sol=B+a\r\n",
        "    break\r\n",
        "print(constant)\r\n",
        "sol"
      ],
      "execution_count": 93,
      "outputs": [
        {
          "output_type": "stream",
          "text": [
            "5\n"
          ],
          "name": "stdout"
        },
        {
          "output_type": "execute_result",
          "data": {
            "text/plain": [
              "array([ 0, 40, 38])"
            ]
          },
          "metadata": {
            "tags": []
          },
          "execution_count": 93
        }
      ]
    },
    {
      "cell_type": "code",
      "metadata": {
        "id": "tjYXeU1Tym5R"
      },
      "source": [
        "#해가 없는 경우\r\n",
        "if a[0]!=0 and b[0]!=0:\r\n",
        "    a_slope=a[1]/a[0]\r\n",
        "    b_slope=b[1]/b[1]\r\n",
        "    if a_slope==b_slope and a[2]==b[2]: print(\"해가 무수히 많다\")\r\n",
        "    elif a_slope==b_slope and a[2]!=b[2]: print(\"해가 없다(두 직선이 평행이다)\")"
      ],
      "execution_count": 94,
      "outputs": []
    },
    {
      "cell_type": "code",
      "metadata": {
        "colab": {
          "base_uri": "https://localhost:8080/"
        },
        "id": "vOaLRSd3zPcK",
        "outputId": "48e8a9d9-0e51-4723-a25f-1f46e2f8ae52"
      },
      "source": [
        "#해가 있는 경우: a나 b가 축에 평행하는 직선\r\n",
        "if a[0]==0: y=a[2]\r\n",
        "elif a[1]==0: x=a[2]\r\n",
        "if b[0]==0: y=b[2]\r\n",
        "elif b[1]==0: x=b[2]\r\n",
        "print(f'x={x}, y={y}')"
      ],
      "execution_count": 95,
      "outputs": [
        {
          "output_type": "stream",
          "text": [
            "x=-0.7777777777777786, y=2.4444444444444446\n"
          ],
          "name": "stdout"
        }
      ]
    },
    {
      "cell_type": "code",
      "metadata": {
        "id": "l7rs15GVL313",
        "colab": {
          "base_uri": "https://localhost:8080/"
        },
        "outputId": "80355c2e-5765-49b1-9617-c49ed8745f59"
      },
      "source": [
        "#해가 있는 경우\r\n",
        "if sol[0]==0:\r\n",
        "  y=sol[2]/sol[1]\r\n",
        "  if a[0]!=0: x=(a[2]-a[1]*y)/a[0]\r\n",
        "  else: x=(b[2]-b[1]*y)/b[0]\r\n",
        "elif sol[1]==0:\r\n",
        "  x=sol[2]/sol[0]\r\n",
        "  y=(a[2]-a[0]*x)//a[0]\r\n",
        "print(f'x={x}, y={y}')"
      ],
      "execution_count": 96,
      "outputs": [
        {
          "output_type": "stream",
          "text": [
            "x=-0.5, y=0.95\n"
          ],
          "name": "stdout"
        }
      ]
    },
    {
      "cell_type": "code",
      "metadata": {
        "id": "wItgFsTfFk4P",
        "colab": {
          "base_uri": "https://localhost:8080/"
        },
        "outputId": "4a64f63b-210e-4705-a8e5-8a681f90b73e"
      },
      "source": [
        "print(f'{a[0]}x + {a[1]}y = {a[2]}')\r\n",
        "print(f'{b[0]}x + {b[1]}y = {b[2]}')\r\n",
        "print(f'x={x}, y={y}')"
      ],
      "execution_count": 97,
      "outputs": [
        {
          "output_type": "stream",
          "text": [
            "1x + 10y = 9\n",
            "5x + 10y = 7\n",
            "x=-0.5, y=0.95\n"
          ],
          "name": "stdout"
        }
      ]
    },
    {
      "cell_type": "code",
      "metadata": {
        "colab": {
          "base_uri": "https://localhost:8080/"
        },
        "id": "lXduFMdZS-lJ",
        "outputId": "eeefe3a6-87cc-4ead-deaf-07b672cc4bd8"
      },
      "source": [
        "#검토\r\n",
        "a_check = a[0]*x + a[1]*y\r\n",
        "b_check = b[0]*x + b[1]*y\r\n",
        "if a_check==a[2] and b_check==b[2]: print(f'{x}, {y}를 대입했을 때 연립방정식은 성립한다.')\r\n",
        "else: print(\"연립방정식이 성립하지 않는다.\")"
      ],
      "execution_count": 98,
      "outputs": [
        {
          "output_type": "stream",
          "text": [
            "-0.5, 0.95를 대입했을 때 연립방정식은 성립한다.\n"
          ],
          "name": "stdout"
        }
      ]
    }
  ]
}