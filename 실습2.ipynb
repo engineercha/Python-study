{
  "nbformat": 4,
  "nbformat_minor": 0,
  "metadata": {
    "colab": {
      "name": "실습2",
      "provenance": [],
      "collapsed_sections": [],
      "toc_visible": true,
      "authorship_tag": "ABX9TyPFSTjOFMKkaT2ef6S67Mlp",
      "include_colab_link": true
    },
    "kernelspec": {
      "name": "python3",
      "display_name": "Python 3"
    },
    "language_info": {
      "name": "python"
    }
  },
  "cells": [
    {
      "cell_type": "markdown",
      "metadata": {
        "id": "view-in-github",
        "colab_type": "text"
      },
      "source": [
        "<a href=\"https://colab.research.google.com/github/engineercha/Python-study/blob/master/%EC%8B%A4%EC%8A%B52.ipynb\" target=\"_parent\"><img src=\"https://colab.research.google.com/assets/colab-badge.svg\" alt=\"Open In Colab\"/></a>"
      ]
    },
    {
      "cell_type": "markdown",
      "metadata": {
        "id": "FlT7Wvf4yYoA"
      },
      "source": [
        "###선택문"
      ]
    },
    {
      "cell_type": "markdown",
      "metadata": {
        "id": "Tq5oKYcYylcx"
      },
      "source": [
        "####실습2\n",
        "\n",
        "if(조건):\n",
        "> 실행할 문장1\n",
        "\n",
        "> 실행할 문장2"
      ]
    },
    {
      "cell_type": "code",
      "metadata": {
        "colab": {
          "base_uri": "https://localhost:8080/"
        },
        "id": "hxZL_cFDxhe3",
        "outputId": "5bb7020c-8cd9-42e7-faa9-caff38d58db4"
      },
      "source": [
        "a=200\n",
        "\n",
        "if a<100:\n",
        "    print(\"100보다 작군요\")\n",
        "    print(\"거짓이므로 이 문장은 안 보이겠죠?\")\n",
        "print(\"거짓이므로 이 문장은 안 보이겠죠?\")  #오류는 나지 않으나, 의도와 다르게 동작\n",
        "print(\"프로그램 끝\")\n",
        "\n",
        "#들여쓰기 오류\n",
        "money=1000\n",
        "water=500\n",
        "if water<money:\n",
        "    print(\"생수를 뽑는다\")\n",
        "    print(\"물을 마신다\")\n",
        "#        print(\"시원하다\")\n",
        "    print(\"시원하다\")"
      ],
      "execution_count": 1,
      "outputs": [
        {
          "output_type": "stream",
          "text": [
            "거짓이므로 이 문장은 안 보이겠죠?\n",
            "프로그램 끝\n",
            "생수를 뽑는다\n",
            "물을 마신다\n",
            "시원하다\n"
          ],
          "name": "stdout"
        }
      ]
    },
    {
      "cell_type": "markdown",
      "metadata": {
        "id": "Y87O9UCtzHxg"
      },
      "source": [
        "####실습6\n",
        "if(조건):\n",
        "> 실행할 문장1\n",
        "\n",
        "elif(조건):\n",
        "> 실행할 문장2\n",
        "\n",
        "else:"
      ]
    },
    {
      "cell_type": "code",
      "metadata": {
        "colab": {
          "base_uri": "https://localhost:8080/"
        },
        "id": "ItLgw-OizORE",
        "outputId": "0ee5ace7-f8bd-4732-e7f7-e034b4687d76"
      },
      "source": [
        "score=int(input(\"점수를 입력하세요: \"))\n",
        "\n",
        "if score>=90: print(\"A\")\n",
        "elif score>=80: print(\"B\")\n",
        "elif score>=70: print(\"C\")\n",
        "elif score>=60: print(\"D\")\n",
        "else: print(\"F\")\n",
        "\n",
        "print(\"학점입니다. ^^\")"
      ],
      "execution_count": 2,
      "outputs": [
        {
          "output_type": "stream",
          "text": [
            "점수를 입력하세요: 98\n",
            "A\n",
            "학점입니다. ^^\n"
          ],
          "name": "stdout"
        }
      ]
    },
    {
      "cell_type": "markdown",
      "metadata": {
        "id": "g1ETrh9a2dc8"
      },
      "source": [
        "###반복문"
      ]
    },
    {
      "cell_type": "markdown",
      "metadata": {
        "id": "W_hdNzbBP_tm"
      },
      "source": [
        "####실습8\n",
        "range함수: 숫자 리스트를 자동으로 생성, range(start,stop,step)"
      ]
    },
    {
      "cell_type": "code",
      "metadata": {
        "colab": {
          "base_uri": "https://localhost:8080/"
        },
        "id": "LMhqREB62SyP",
        "outputId": "0b88c6b4-55d8-4394-aa88-a271149e5399"
      },
      "source": [
        "for n in range(10):\n",
        "    print(n, end=' ')\n",
        "print()\n",
        "\n",
        "for n in range(1,11):\n",
        "    print(n, end=' ')\n",
        "print()\n",
        "\n",
        "for n in range(1,11,2):\n",
        "    print(n, end=' ')\n",
        "print()\n",
        "\n",
        "for n in range(10,0,-1):    #10부터 1까지 출력\n",
        "    print(n, end=' ')\n",
        "print()\n",
        "\n",
        "for n in range(10,-1,-1):   #10부터 0까지 출력\n",
        "    print(n, end=' ')\n",
        "print()\n",
        "\n",
        "i, hap=0, 0.0\n",
        "for i in range(1,11,1):\n",
        "    hap=hap+i\n",
        "print(\"1부터 10까지의 합계: %d\" %hap)"
      ],
      "execution_count": 3,
      "outputs": [
        {
          "output_type": "stream",
          "text": [
            "0 1 2 3 4 5 6 7 8 9 \n",
            "1 2 3 4 5 6 7 8 9 10 \n",
            "1 3 5 7 9 \n",
            "10 9 8 7 6 5 4 3 2 1 \n",
            "10 9 8 7 6 5 4 3 2 1 0 \n",
            "1부터 10까지의 합계: 55\n"
          ],
          "name": "stdout"
        }
      ]
    },
    {
      "cell_type": "markdown",
      "metadata": {
        "id": "NzQ7OC705RD0"
      },
      "source": [
        "####실습10\n",
        "사용자가 입력한 단의 구구단, 전체 구구단 출력"
      ]
    },
    {
      "cell_type": "code",
      "metadata": {
        "colab": {
          "base_uri": "https://localhost:8080/"
        },
        "id": "gjo54obF6Q_h",
        "outputId": "e4139a6d-d42e-4959-adb2-c55fc4dd5f41"
      },
      "source": [
        "i, dan=0, 0\n",
        "dan=int(input(\"단을 입력하세요: \"))\n",
        "\n",
        "for i in range(1,10,1):\n",
        "    print(\"%d x %d = %2d\" %(dan, i, dan*i))\n",
        "print()\n",
        "\n",
        "for dan in range(2,10,1):\n",
        "    for i in range(1,10,1):\n",
        "        print(\"%d x %d = %2d\" %(dan, i, dan*i))"
      ],
      "execution_count": 4,
      "outputs": [
        {
          "output_type": "stream",
          "text": [
            "단을 입력하세요: 2\n",
            "2 x 1 =  2\n",
            "2 x 2 =  4\n",
            "2 x 3 =  6\n",
            "2 x 4 =  8\n",
            "2 x 5 = 10\n",
            "2 x 6 = 12\n",
            "2 x 7 = 14\n",
            "2 x 8 = 16\n",
            "2 x 9 = 18\n",
            "\n",
            "2 x 1 =  2\n",
            "2 x 2 =  4\n",
            "2 x 3 =  6\n",
            "2 x 4 =  8\n",
            "2 x 5 = 10\n",
            "2 x 6 = 12\n",
            "2 x 7 = 14\n",
            "2 x 8 = 16\n",
            "2 x 9 = 18\n",
            "3 x 1 =  3\n",
            "3 x 2 =  6\n",
            "3 x 3 =  9\n",
            "3 x 4 = 12\n",
            "3 x 5 = 15\n",
            "3 x 6 = 18\n",
            "3 x 7 = 21\n",
            "3 x 8 = 24\n",
            "3 x 9 = 27\n",
            "4 x 1 =  4\n",
            "4 x 2 =  8\n",
            "4 x 3 = 12\n",
            "4 x 4 = 16\n",
            "4 x 5 = 20\n",
            "4 x 6 = 24\n",
            "4 x 7 = 28\n",
            "4 x 8 = 32\n",
            "4 x 9 = 36\n",
            "5 x 1 =  5\n",
            "5 x 2 = 10\n",
            "5 x 3 = 15\n",
            "5 x 4 = 20\n",
            "5 x 5 = 25\n",
            "5 x 6 = 30\n",
            "5 x 7 = 35\n",
            "5 x 8 = 40\n",
            "5 x 9 = 45\n",
            "6 x 1 =  6\n",
            "6 x 2 = 12\n",
            "6 x 3 = 18\n",
            "6 x 4 = 24\n",
            "6 x 5 = 30\n",
            "6 x 6 = 36\n",
            "6 x 7 = 42\n",
            "6 x 8 = 48\n",
            "6 x 9 = 54\n",
            "7 x 1 =  7\n",
            "7 x 2 = 14\n",
            "7 x 3 = 21\n",
            "7 x 4 = 28\n",
            "7 x 5 = 35\n",
            "7 x 6 = 42\n",
            "7 x 7 = 49\n",
            "7 x 8 = 56\n",
            "7 x 9 = 63\n",
            "8 x 1 =  8\n",
            "8 x 2 = 16\n",
            "8 x 3 = 24\n",
            "8 x 4 = 32\n",
            "8 x 5 = 40\n",
            "8 x 6 = 48\n",
            "8 x 7 = 56\n",
            "8 x 8 = 64\n",
            "8 x 9 = 72\n",
            "9 x 1 =  9\n",
            "9 x 2 = 18\n",
            "9 x 3 = 27\n",
            "9 x 4 = 36\n",
            "9 x 5 = 45\n",
            "9 x 6 = 54\n",
            "9 x 7 = 63\n",
            "9 x 8 = 72\n",
            "9 x 9 = 81\n"
          ],
          "name": "stdout"
        }
      ]
    },
    {
      "cell_type": "markdown",
      "metadata": {
        "id": "TeYrFbeM7BkA"
      },
      "source": [
        "####실습11\n",
        "구구단 가로 출력"
      ]
    },
    {
      "cell_type": "code",
      "metadata": {
        "colab": {
          "base_uri": "https://localhost:8080/"
        },
        "id": "Ct9KchD57xxn",
        "outputId": "28c32d99-280f-4d73-dcf5-821216f3e9a2"
      },
      "source": [
        "#전역변수 선언\n",
        "i,k,guguLine=0,0,\"\"\n",
        "\n",
        "#단수 출력\n",
        "for i in range(2,10):\n",
        "    guguLine=guguLine+(\"#   %d단  #\\t\" %i)\n",
        "print(guguLine)\n",
        "\n",
        "#메인코드\n",
        "for i in range(1,10):\n",
        "    guguLine=\"\"\n",
        "    for k in range(2,10):\n",
        "        guguLine= guguLine+ str(\"%d x %d = %2d\\t\" %(k, i, k*i))\n",
        "    print(guguLine)"
      ],
      "execution_count": 5,
      "outputs": [
        {
          "output_type": "stream",
          "text": [
            "#   2단  #\t#   3단  #\t#   4단  #\t#   5단  #\t#   6단  #\t#   7단  #\t#   8단  #\t#   9단  #\t\n",
            "2 x 1 =  2\t3 x 1 =  3\t4 x 1 =  4\t5 x 1 =  5\t6 x 1 =  6\t7 x 1 =  7\t8 x 1 =  8\t9 x 1 =  9\t\n",
            "2 x 2 =  4\t3 x 2 =  6\t4 x 2 =  8\t5 x 2 = 10\t6 x 2 = 12\t7 x 2 = 14\t8 x 2 = 16\t9 x 2 = 18\t\n",
            "2 x 3 =  6\t3 x 3 =  9\t4 x 3 = 12\t5 x 3 = 15\t6 x 3 = 18\t7 x 3 = 21\t8 x 3 = 24\t9 x 3 = 27\t\n",
            "2 x 4 =  8\t3 x 4 = 12\t4 x 4 = 16\t5 x 4 = 20\t6 x 4 = 24\t7 x 4 = 28\t8 x 4 = 32\t9 x 4 = 36\t\n",
            "2 x 5 = 10\t3 x 5 = 15\t4 x 5 = 20\t5 x 5 = 25\t6 x 5 = 30\t7 x 5 = 35\t8 x 5 = 40\t9 x 5 = 45\t\n",
            "2 x 6 = 12\t3 x 6 = 18\t4 x 6 = 24\t5 x 6 = 30\t6 x 6 = 36\t7 x 6 = 42\t8 x 6 = 48\t9 x 6 = 54\t\n",
            "2 x 7 = 14\t3 x 7 = 21\t4 x 7 = 28\t5 x 7 = 35\t6 x 7 = 42\t7 x 7 = 49\t8 x 7 = 56\t9 x 7 = 63\t\n",
            "2 x 8 = 16\t3 x 8 = 24\t4 x 8 = 32\t5 x 8 = 40\t6 x 8 = 48\t7 x 8 = 56\t8 x 8 = 64\t9 x 8 = 72\t\n",
            "2 x 9 = 18\t3 x 9 = 27\t4 x 9 = 36\t5 x 9 = 45\t6 x 9 = 54\t7 x 9 = 63\t8 x 9 = 72\t9 x 9 = 81\t\n"
          ],
          "name": "stdout"
        }
      ]
    },
    {
      "cell_type": "markdown",
      "metadata": {
        "id": "-Rz56HNe8dlZ"
      },
      "source": [
        "###While문"
      ]
    },
    {
      "cell_type": "code",
      "metadata": {
        "colab": {
          "base_uri": "https://localhost:8080/"
        },
        "id": "KlaJb_e38f4x",
        "outputId": "0ab5abe6-f688-4155-8772-3a2dcd303a8b"
      },
      "source": [
        "i,hap=0,0\n",
        "\n",
        "i=1                     #초기식\n",
        "while i<11:             #조건식\n",
        "    hap=hap+i\n",
        "    i=i+1               #증감식\n",
        "print(\"1에서 10까지의 합계: %d\" %hap)"
      ],
      "execution_count": 6,
      "outputs": [
        {
          "output_type": "stream",
          "text": [
            "1에서 10까지의 합계: 55\n"
          ],
          "name": "stdout"
        }
      ]
    },
    {
      "cell_type": "markdown",
      "metadata": {
        "id": "9XnjSXak_z20"
      },
      "source": [
        "####실습19\n",
        "별 특수문자로 마름모 출력"
      ]
    },
    {
      "cell_type": "code",
      "metadata": {
        "colab": {
          "base_uri": "https://localhost:8080/"
        },
        "id": "4bnuIylf85P6",
        "outputId": "455fdbc4-49f2-4371-b012-615627cdb91e"
      },
      "source": [
        "#전역변수 선언\n",
        "i,k=0,0\n",
        "\n",
        "#메인코드\n",
        "i=0\n",
        "while i<9:\n",
        "    if i<5:     #i가 0~4일 때\n",
        "        k=0\n",
        "        while k<4-i:\n",
        "            print('  ',end='')\n",
        "            k+=1\n",
        "        k=0\n",
        "        while k<2*i+1:\n",
        "            print('\\u2605',end='')\n",
        "            k+=1\n",
        "    \n",
        "    else:       #i가 5~8일 때\n",
        "        k=0\n",
        "        while k<i-4:\n",
        "            print('  ',end='')\n",
        "            k+=1\n",
        "        k=0\n",
        "        while k<2*(9-i)-1:\n",
        "            print('\\u2605',end='')\n",
        "            k+=1\n",
        "    print()\n",
        "    i+=1"
      ],
      "execution_count": 7,
      "outputs": [
        {
          "output_type": "stream",
          "text": [
            "        ★\n",
            "      ★★★\n",
            "    ★★★★★\n",
            "  ★★★★★★★\n",
            "★★★★★★★★★\n",
            "  ★★★★★★★\n",
            "    ★★★★★\n",
            "      ★★★\n",
            "        ★\n"
          ],
          "name": "stdout"
        }
      ]
    },
    {
      "cell_type": "markdown",
      "metadata": {
        "id": "wFOsYbEZ_-mC"
      },
      "source": [
        "###Print 함수"
      ]
    },
    {
      "cell_type": "markdown",
      "metadata": {
        "id": "RnuoEddqASPb"
      },
      "source": [
        "Escape Sequence: 특수한 의미를 가진, \\ 뒤에 문자나 숫자가 오는 조합\n",
        "\n",
        "\\n, \\t, \\r(현재 줄의 맨 앞글자로 이동), \\b(한칸 앞을 지움), \\x00(16진수 문자형 반환) (\\x41: 65 ('A')"
      ]
    },
    {
      "cell_type": "code",
      "metadata": {
        "colab": {
          "base_uri": "https://localhost:8080/"
        },
        "id": "XbXoIkPbAAhz",
        "outputId": "207409ff-8ba0-41c7-b253-712ef48d0dd3"
      },
      "source": [
        "print(\"Hello\")\n",
        "\n",
        "print(\"%d\" %100)\n",
        "print(\"%d, %d\" %(100,200))  #출력 데이터가 여러 개일 때, 서식과 숫자 대응\n",
        "#print(\"%d\" %(100,200))     #오류\n",
        "#print(\"%d, %d\" %100)\n",
        "\n",
        "print(\"%d / %d =%5.1f\" %(100,200,0.5))\n",
        "\n",
        "print(\"--------------------------\")\n",
        "print(\"%d\" %123)\n",
        "print(\"%5d\" %123)\n",
        "print(\"%05d\" %123)\n",
        "print(\"--------------------------\")\n",
        "print(\"%f\" %123.45)\n",
        "print(\"%7.1f\" %123.45)\n",
        "print(\"%7.3f\" %123.45)\n",
        "print(\"--------------------------\")\n",
        "print(\"%s\" %\"Python\")\n",
        "print(\"%10s\" %\"Python\")\n",
        "print(\"--------------------------\")\n",
        "#print(\"Error is %d%\" %98)\n",
        "print(\"Error is %d%%\" %98)\n",
        "\n",
        "#특수 표기법\n",
        "print(\"\\n줄바꿈\\n연습\")\n",
        "print(\"\\t탭키\\t연습\")\n",
        "print(\"\\\\\\\\\\\\역슬래시 3개 출력\")\n",
        "print(\"줄바꿈 기호: \\\\n\")\n",
        "print(\"탭  키 기호: \\\\t\")\n",
        "print(\"줄바꾸기\")\n",
        "print(\"줄바꿈\")\n",
        "print(\"줄바꾸지 말기\", end=' ')\n",
        "print(\"같은 줄에 출력\")"
      ],
      "execution_count": 8,
      "outputs": [
        {
          "output_type": "stream",
          "text": [
            "Hello\n",
            "100\n",
            "100, 200\n",
            "100 / 200 =  0.5\n",
            "------------%d--------------\n",
            "123\n",
            "  123\n",
            "00123\n",
            "------------%f--------------\n",
            "123.450000\n",
            "  123.5\n",
            "123.450\n",
            "------------%s--------------\n",
            "Python\n",
            "    Python\n",
            "------------%%--------------\n",
            "Error is 98%\n",
            "\n",
            "줄바꿈\n",
            "연습\n",
            "\t탭키\t연습\n",
            "\\\\\\역슬래시 3개 출력\n",
            "줄바꿈 기호: \\n\n",
            "탭  키 기호: \\t\n",
            "줄바꾸기\n",
            "줄바꿈\n",
            "줄바꾸지 말기 같은 줄에 출력\n"
          ],
          "name": "stdout"
        }
      ]
    }
  ]
}