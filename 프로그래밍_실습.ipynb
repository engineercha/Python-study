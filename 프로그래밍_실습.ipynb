{
  "nbformat": 4,
  "nbformat_minor": 0,
  "metadata": {
    "colab": {
      "name": "프로그래밍 실습.ipynb",
      "provenance": [],
      "collapsed_sections": [],
      "authorship_tag": "ABX9TyPzSEdYn/F9WU1/ZEzNp8bi",
      "include_colab_link": true
    },
    "kernelspec": {
      "name": "python3",
      "display_name": "Python 3"
    },
    "language_info": {
      "name": "python"
    }
  },
  "cells": [
    {
      "cell_type": "markdown",
      "metadata": {
        "id": "view-in-github",
        "colab_type": "text"
      },
      "source": [
        "<a href=\"https://colab.research.google.com/github/engineercha/Python-study/blob/master/%ED%94%84%EB%A1%9C%EA%B7%B8%EB%9E%98%EB%B0%8D_%EC%8B%A4%EC%8A%B5.ipynb\" target=\"_parent\"><img src=\"https://colab.research.google.com/assets/colab-badge.svg\" alt=\"Open In Colab\"/></a>"
      ]
    },
    {
      "cell_type": "markdown",
      "source": [
        "코딩활용, 왕초보도 만드는 AI 자율주행자동차\n",
        "\n",
        "- ~~12회차 프로그래밍 개요~~\n",
        "- ~~13회차 파이썬 이해~~\n",
        "- ~~14회자 숫자와 문자~~\n",
        "- ~~15회차 bool형과 조건문~~\n",
        "- ~~16회차 리스트와 튜플~~\n",
        "- ~~17회차 딕셔너리~~\n",
        "- ~~18회차 언패킹과 반복문~~\n",
        "- 19회차 함수\n",
        "- 20회차 클래스\n",
        "- 21회차 라이브러리"
      ],
      "metadata": {
        "id": "p9SrB53vkOvr"
      }
    },
    {
      "cell_type": "markdown",
      "source": [
        "## 12강 파이썬\n",
        "\n",
        "\n",
        "\n"
      ],
      "metadata": {
        "id": "HnD5fX473K0I"
      }
    },
    {
      "cell_type": "markdown",
      "source": [
        "뱀을 형상화한 것\n",
        "\n",
        "1. 컴파일 언어와 스크립트 언어\n",
        "\n",
        "컴파일 언어: 코딩을 하면 컴파일 후 실행파일이 만들어지고 이 파일을 실행하는 형식\n",
        "스크립트 언어: 코딩을 하면 인터프리터가 바로 해석하고 실행할 수 있게 해줌, 문법에 제약이 없지만 실행이 조금 느리다는 단점\n",
        "\n",
        "2. 동적 타이핑\n",
        "\n",
        "자료형을 코드에 작성할 필요가 없지만, 컴퓨터가 자동으로 알아차려야 하기 떄문에 느리다는 단점\n",
        "\n",
        "3. 파이썬 자료형\n",
        "\n",
        "- 수치형: int, float, complex\n",
        "- 문자열: str\n",
        "- 튜플: tuple (내부적으로 값을 전달할 때 튜플을 사용)\n",
        "- 리스트: list (여러 값을 받음)\n",
        "- 사전: dict (키와 값이 하나의 데이터)\n",
        "집합: set\n",
        "\n",
        "list, dict, set은 mutable하고 tuple은 immutable함\n",
        "\n",
        "4. 변수\n",
        "\n",
        "변하는 수를 의미, a=1은 1이라는 값을 a라는 변수에 할당한다고 말함, 재사용과 재할당이 가능함\n",
        "\n",
        "메모리는 address와 공간으로 이루어짐, 컴퓨터 프로그램에서 존재한다는 것은 메모리에 있다는 뜻임, 변수는 메모리의 주소를 가르킴\n",
        "\n",
        "ex) 0000에 1이, 0001에 차수빈이라는 값이 저장돼는데 각 주소를 num과 name으로 이름 지어주면 변수 num을 사용하는 것은 값 1을 사용하는 것과 동일함"
      ],
      "metadata": {
        "id": "7RWyoVE1-FT4"
      }
    },
    {
      "cell_type": "markdown",
      "source": [
        "## 13강 숫자와 문자"
      ],
      "metadata": {
        "id": "V0X19E0z6xYz"
      }
    },
    {
      "cell_type": "markdown",
      "source": [
        "int(정수): 양의 정수, 0, 음의 정수\n",
        "\n",
        "float(정수가 아닌 유리수): 분수와 분수로 표현 가능한 소수"
      ],
      "metadata": {
        "id": "N4HKYJ1p66Vi"
      }
    },
    {
      "cell_type": "code",
      "source": [
        "apple=3"
      ],
      "metadata": {
        "id": "U-He3kDb6uY8"
      },
      "execution_count": 20,
      "outputs": []
    },
    {
      "cell_type": "code",
      "source": [
        "half_apple=2.5"
      ],
      "metadata": {
        "id": "Spu35c817cy0"
      },
      "execution_count": 21,
      "outputs": []
    },
    {
      "cell_type": "code",
      "source": [
        "print(apple+2, type(apple+2))\n",
        "print(apple+0.5, type(apple+0.5))\n",
        "print(half_apple+0.5, type(half_apple+0.5))"
      ],
      "metadata": {
        "colab": {
          "base_uri": "https://localhost:8080/"
        },
        "id": "2-xY5ErI7hVd",
        "outputId": "b0eb5ea0-a823-446e-9ac6-b3c5b5618ded"
      },
      "execution_count": 22,
      "outputs": [
        {
          "output_type": "stream",
          "name": "stdout",
          "text": [
            "5 <class 'int'>\n",
            "3.5 <class 'float'>\n",
            "3.0 <class 'float'>\n"
          ]
        }
      ]
    },
    {
      "cell_type": "markdown",
      "source": [
        "- 정수형에 실수를 더하면 실수형이 됨\n",
        "- 실수형에 자연수가 되게 하는 실수를 더해도 정수형이 되지 않음"
      ],
      "metadata": {
        "id": "306BD-U78e4S"
      }
    },
    {
      "cell_type": "code",
      "source": [
        "one=1\n",
        "two=2\n",
        "one+two"
      ],
      "metadata": {
        "colab": {
          "base_uri": "https://localhost:8080/"
        },
        "id": "CCPl1HnF8u1r",
        "outputId": "cc8badd4-9ba7-430a-ed20-4273b812b2e5"
      },
      "execution_count": 23,
      "outputs": [
        {
          "output_type": "execute_result",
          "data": {
            "text/plain": [
              "3"
            ]
          },
          "metadata": {},
          "execution_count": 23
        }
      ]
    },
    {
      "cell_type": "code",
      "source": [
        "str1='he said '\n",
        "str2='hello'\n",
        "str1+str2"
      ],
      "metadata": {
        "colab": {
          "base_uri": "https://localhost:8080/",
          "height": 35
        },
        "id": "cD6oenvz91uG",
        "outputId": "9dbc3728-6dc7-429b-9622-ca2191d11c25"
      },
      "execution_count": 24,
      "outputs": [
        {
          "output_type": "execute_result",
          "data": {
            "text/plain": [
              "'he said hello'"
            ],
            "application/vnd.google.colaboratory.intrinsic+json": {
              "type": "string"
            }
          },
          "metadata": {},
          "execution_count": 24
        }
      ]
    },
    {
      "cell_type": "code",
      "source": [
        "num1=10\n",
        "num2=3\n",
        "print(num1/num2)\n",
        "print(num1//num2) #몫\n",
        "print(num1%num2)  #나머지"
      ],
      "metadata": {
        "colab": {
          "base_uri": "https://localhost:8080/"
        },
        "id": "4btf_2De9FtT",
        "outputId": "d27ecba4-c4be-4080-904e-338dfbcd214d"
      },
      "execution_count": 25,
      "outputs": [
        {
          "output_type": "stream",
          "name": "stdout",
          "text": [
            "3.3333333333333335\n",
            "3\n",
            "1\n"
          ]
        }
      ]
    },
    {
      "cell_type": "code",
      "source": [
        "print('hello')\n",
        "print('he said \"hello\"')\n",
        "print('he said \\'hello\\'')"
      ],
      "metadata": {
        "colab": {
          "base_uri": "https://localhost:8080/"
        },
        "id": "LBofEa8F8FXc",
        "outputId": "21537da5-6e8e-4f9f-bd43-1f15698dd559"
      },
      "execution_count": 26,
      "outputs": [
        {
          "output_type": "stream",
          "name": "stdout",
          "text": [
            "hello\n",
            "he said \"hello\"\n",
            "he said 'hello'\n"
          ]
        }
      ]
    },
    {
      "cell_type": "code",
      "source": [
        "name='차수빈'\n",
        "print(type(name))"
      ],
      "metadata": {
        "colab": {
          "base_uri": "https://localhost:8080/"
        },
        "id": "eGuoj-Vr9Ukb",
        "outputId": "8badc05c-00db-4b3f-8a1f-7a0db535a94a"
      },
      "execution_count": 27,
      "outputs": [
        {
          "output_type": "stream",
          "name": "stdout",
          "text": [
            "<class 'str'>\n"
          ]
        }
      ]
    },
    {
      "cell_type": "markdown",
      "source": [
        "## 14강 Bool형과 조건문"
      ],
      "metadata": {
        "id": "-l_S9gZQ-IT3"
      }
    },
    {
      "cell_type": "markdown",
      "source": [
        "1. Bool(진리값): True와 False, 첫글자는 대문자여야 함\n",
        "\n",
        "2. if조건문: 조건이 2개 이상이면 elif문이나 else문을 사용함, elif와 else는 혼자 쓸 수 없으며 else는 안 쓰거나 1번만 씀, elif문은 만약 위의 조건이 아니고 이번 조건이라면 실행하고 else문은 위의 조건이 아니면 실행(조건문이 없음)\n",
        "\n",
        "\n"
      ],
      "metadata": {
        "id": "AeQ9HZa7WslA"
      }
    },
    {
      "cell_type": "code",
      "source": [
        "t1=True\n",
        "f1=False\n",
        "print(t1,f1)\n",
        "print(type(t1),type(f1))"
      ],
      "metadata": {
        "colab": {
          "base_uri": "https://localhost:8080/"
        },
        "id": "H8GOuWuTWsKd",
        "outputId": "24563d1c-9cff-43d9-b0e4-f3496b51c720"
      },
      "execution_count": 28,
      "outputs": [
        {
          "output_type": "stream",
          "name": "stdout",
          "text": [
            "True False\n",
            "<class 'bool'> <class 'bool'>\n"
          ]
        }
      ]
    },
    {
      "cell_type": "code",
      "source": [
        "print(1==1, 1!=1, 2<3, 2>3, 2<=3, 2>=3)"
      ],
      "metadata": {
        "colab": {
          "base_uri": "https://localhost:8080/"
        },
        "id": "2r9jdfd-YMBi",
        "outputId": "1cc03ea8-6d5d-4595-d30e-496df6e2b268"
      },
      "execution_count": 29,
      "outputs": [
        {
          "output_type": "stream",
          "name": "stdout",
          "text": [
            "True False True False True False\n"
          ]
        }
      ]
    },
    {
      "cell_type": "markdown",
      "source": [
        "True 또는 False를 대입해도 되지만, 조건이 들어갔을 때도 자동으로 bool형으로 판단함"
      ],
      "metadata": {
        "id": "H5tNidZjYopA"
      }
    },
    {
      "cell_type": "code",
      "source": [
        "sun=False\n",
        "rain=True\n",
        "\n",
        "if sun:\n",
        "    print('사과를 따러 간다')\n",
        "elif rain:\n",
        "    print('집에 머문다')\n",
        "\n",
        "print('if의 영향을 받지 않고 무조건 출력')"
      ],
      "metadata": {
        "colab": {
          "base_uri": "https://localhost:8080/"
        },
        "id": "mItZ3SoUYlwK",
        "outputId": "b541a829-244e-4067-fb22-d1f4dbb6a6c1"
      },
      "execution_count": 30,
      "outputs": [
        {
          "output_type": "stream",
          "name": "stdout",
          "text": [
            "집에 머문다\n",
            "if의 영향을 받지 않고 무조건 출력\n"
          ]
        }
      ]
    },
    {
      "cell_type": "markdown",
      "source": [
        "다른 언어에서는 중괄호를 사용하는데 파이썬은 들여쓰기로 if문 안에 있는 코드블럭을 파악함"
      ],
      "metadata": {
        "id": "6AQrACC_ZFPm"
      }
    },
    {
      "cell_type": "markdown",
      "source": [
        "## 15강 리스트와 튜플"
      ],
      "metadata": {
        "id": "lB8tRbKWaDDv"
      }
    },
    {
      "cell_type": "markdown",
      "source": [
        "여러값을 한번에 저장하고 관리하는 자료형\n",
        "\n",
        "1. 리스트\n",
        "\n",
        "[객체, 객체, 객체]\n",
        "\n",
        "리스트에 객체의 메모리주소가 담김, 메모리주소가 반드시 연속일(순서대로일) 필요는 없음, 편하게 꺼내기(탐색하기) 위한 자료형임\n",
        "\n",
        "리스트와 튜플의 차이점은? 리스트는 언제든 객체를 넣었다 뺐다 할 수 있지만 ***튜플은 수정 불가능함(불변객체임)*** 보안을 위해 사용함\n",
        "\n",
        "\n",
        "2. 인덱싱\n",
        "\n",
        "순서가 있는 데이터타입에 사용 가능하며, 특정 객체를 사용하기 위해 그 객체의 순서(인덱스)를 사용하는 방법임\n",
        "\n",
        "- zero based indexing: 인덱스 번호가 0부터 시작함, 파이썬\n",
        "- one based indexing"
      ],
      "metadata": {
        "id": "JocQYyiL2PM7"
      }
    },
    {
      "cell_type": "code",
      "source": [
        "a=10\n",
        "b=20\n",
        "l1=[a,b] #대괄호 \n",
        "t1=(a,b) #소괄호\n",
        "l1,t1"
      ],
      "metadata": {
        "colab": {
          "base_uri": "https://localhost:8080/"
        },
        "id": "Rj79MDZaaFBO",
        "outputId": "5143d630-f23a-417c-d37c-c3bdbd9964e6"
      },
      "execution_count": 31,
      "outputs": [
        {
          "output_type": "execute_result",
          "data": {
            "text/plain": [
              "([10, 20], (10, 20))"
            ]
          },
          "metadata": {},
          "execution_count": 31
        }
      ]
    },
    {
      "cell_type": "code",
      "source": [
        "c=l1,t1\n",
        "type(c)"
      ],
      "metadata": {
        "colab": {
          "base_uri": "https://localhost:8080/"
        },
        "id": "V5u0wAtu26VI",
        "outputId": "6bab407e-2d6b-4531-874d-7ed8d6e5f767"
      },
      "execution_count": 32,
      "outputs": [
        {
          "output_type": "execute_result",
          "data": {
            "text/plain": [
              "tuple"
            ]
          },
          "metadata": {},
          "execution_count": 32
        }
      ]
    },
    {
      "cell_type": "code",
      "source": [
        "mylist=[1,2,3,4,5,6,7,8,9]\n",
        "mytuple=(1,2,3,4,5,6,7,8,9)\n",
        "\n",
        "print(mylist[0], mytuple[0])\n",
        "print(mylist[-1], mytuple[-1])\n",
        "print(mylist[-9], mytuple[-9])"
      ],
      "metadata": {
        "colab": {
          "base_uri": "https://localhost:8080/"
        },
        "id": "6_q9M5JL4zI9",
        "outputId": "9602b5db-28bc-4b95-f9ea-04565db44509"
      },
      "execution_count": 33,
      "outputs": [
        {
          "output_type": "stream",
          "name": "stdout",
          "text": [
            "1 1\n",
            "9 9\n",
            "1 1\n"
          ]
        }
      ]
    },
    {
      "cell_type": "code",
      "source": [
        "mylist[-len(mylist)] #후진인덱싱에서 첫번째 요소의 인덱스는 데이터의 길이와 같음"
      ],
      "metadata": {
        "colab": {
          "base_uri": "https://localhost:8080/"
        },
        "id": "-gghGeVi5A-Y",
        "outputId": "7e1741af-3f67-4209-b3f4-33cb353091c0"
      },
      "execution_count": 34,
      "outputs": [
        {
          "output_type": "execute_result",
          "data": {
            "text/plain": [
              "1"
            ]
          },
          "metadata": {},
          "execution_count": 34
        }
      ]
    },
    {
      "cell_type": "code",
      "source": [
        "nums=(1,2,3,4,5)\n",
        "\n",
        "for i in range(0,5): #0부터 4까지\n",
        "    print(nums[i])\n",
        "\n",
        "for i in range(-1,-6,-1): #-1부터 -5까지\n",
        "    print(nums[i])"
      ],
      "metadata": {
        "colab": {
          "base_uri": "https://localhost:8080/"
        },
        "id": "AGRjmunt3xK2",
        "outputId": "be44c043-047b-49f7-86e3-e8999fecfb7a"
      },
      "execution_count": 35,
      "outputs": [
        {
          "output_type": "stream",
          "name": "stdout",
          "text": [
            "1\n",
            "2\n",
            "3\n",
            "4\n",
            "5\n",
            "5\n",
            "4\n",
            "3\n",
            "2\n",
            "1\n"
          ]
        }
      ]
    },
    {
      "cell_type": "markdown",
      "source": [
        "## 16강 딕셔너리"
      ],
      "metadata": {
        "id": "4rpBaCmH56D3"
      }
    },
    {
      "cell_type": "markdown",
      "source": [
        "{키:값, 키:값, 키:값}\n",
        "\n",
        "중괄호 안에 key와 value를 넣는 자료형임, key값은 단일값을 주어야 함(수치형, 문자형 또는 그를 가르키는 변수), value는 리스트나 튜플을 주어도 됨\n",
        "- mutable함\n",
        "- 빠름: mapping 기법, hash 알고리즘을 사용하기 때문에 다량 데이터에 대해 list, tuple에 비해 매우 빨리 데이터를 탐색할 수 있음\n",
        "- key가 중복되면 값이 마지막 것으로 덮어씌워짐"
      ],
      "metadata": {
        "id": "sG2jTgsi9W93"
      }
    },
    {
      "cell_type": "code",
      "source": [
        "d1={'name':'차수빈', 1:'one', 2:'two', 'list':[1,2,3], 'tuple':(1,2,3)}\n",
        "print(d1)\n",
        "print(d1['name']) \n",
        "print(d1[1]) #인덱싱 아님, 그저 key를 사용한 탐색임\n",
        "print(d1[2]) "
      ],
      "metadata": {
        "colab": {
          "base_uri": "https://localhost:8080/"
        },
        "id": "ynzoPDDo-R4q",
        "outputId": "2b9d95ea-5c24-4fbb-d73a-50cd9d5d6358"
      },
      "execution_count": 36,
      "outputs": [
        {
          "output_type": "stream",
          "name": "stdout",
          "text": [
            "{'name': '차수빈', 1: 'one', 2: 'two', 'list': [1, 2, 3], 'tuple': (1, 2, 3)}\n",
            "차수빈\n",
            "one\n",
            "two\n"
          ]
        }
      ]
    },
    {
      "cell_type": "code",
      "source": [
        "#추가\n",
        "d1['program']='python'\n",
        "print(d1)\n",
        "print(d1['program'])"
      ],
      "metadata": {
        "colab": {
          "base_uri": "https://localhost:8080/"
        },
        "id": "s4V7FBv1_mDZ",
        "outputId": "58476828-1432-4b15-c3df-296949c7f1ce"
      },
      "execution_count": 37,
      "outputs": [
        {
          "output_type": "stream",
          "name": "stdout",
          "text": [
            "{'name': '차수빈', 1: 'one', 2: 'two', 'list': [1, 2, 3], 'tuple': (1, 2, 3), 'program': 'python'}\n",
            "python\n"
          ]
        }
      ]
    },
    {
      "cell_type": "code",
      "source": [
        "#삭제\n",
        "del d1['program']\n",
        "print(d1)"
      ],
      "metadata": {
        "colab": {
          "base_uri": "https://localhost:8080/"
        },
        "id": "9JBL3YDh_xrt",
        "outputId": "da5d1bd2-0495-41b6-d995-daca2933e084"
      },
      "execution_count": 38,
      "outputs": [
        {
          "output_type": "stream",
          "name": "stdout",
          "text": [
            "{'name': '차수빈', 1: 'one', 2: 'two', 'list': [1, 2, 3], 'tuple': (1, 2, 3)}\n"
          ]
        }
      ]
    },
    {
      "cell_type": "code",
      "source": [
        "d2={1:'a', 1:'b', 1:'c'}\n",
        "print(d2)"
      ],
      "metadata": {
        "colab": {
          "base_uri": "https://localhost:8080/"
        },
        "id": "ITHZUkgs_7U0",
        "outputId": "dce570b4-c155-4670-87f3-9d8963806cd9"
      },
      "execution_count": 39,
      "outputs": [
        {
          "output_type": "stream",
          "name": "stdout",
          "text": [
            "{1: 'c'}\n"
          ]
        }
      ]
    },
    {
      "cell_type": "markdown",
      "source": [
        "## 17강 언패킹과 반복문"
      ],
      "metadata": {
        "id": "LspBhUzkj_IZ"
      }
    },
    {
      "cell_type": "markdown",
      "source": [
        "언패킹\n",
        "\n",
        "tuple, list, dic는 언패킹할 수 있음, 패킹이 자동으로 이뤄졌을 때만 언패킹을 사용할 수 있음\n",
        "\n",
        "반복문\n",
        "\n",
        "크게 while과 for로 나뉨 \n",
        "\n",
        "1. while은 조건이 참일 동안 실행문을 반복함, 조건이 계속 참이면 while문이 끝나지 않고 이를 무한루프라 함, 조건은 반드시 거짓이 되도록 만들야 함\n",
        "2. for은 가변수와 반복자(반복할 데이터)로 구성됨\n",
        "- [1,2,3,4] 이면 앞에서부터 하나씩 차례대로 꺼내서 가변수에 저장 후 실행문에서 처리함, 더이상 꺼낼 게 없을 때 반복을 종료\n",
        "- [(1,2),(3,4)] 같은 경우 (1,2)과 (3,4)가 아니라 1,2,3,4를 직접적으로 쓰고 싶을 수 있음, 가변수를 2개 쓸 수 있음\n",
        "- [(1,2,3),(4,5,6)] 이면 가변수 3개를 쓸 수 있음"
      ],
      "metadata": {
        "id": "IqDHM-oRkK8U"
      }
    },
    {
      "cell_type": "code",
      "source": [
        "for x,y,z in [[1,2,3],[4,5,6]]:\n",
        "    print(x, end=' ')\n",
        "    print(y, end=' ')\n",
        "    print(z)"
      ],
      "metadata": {
        "colab": {
          "base_uri": "https://localhost:8080/"
        },
        "id": "Srev2pJinVDr",
        "outputId": "4680ae19-f437-4cc8-86aa-a0d27ff76ca4"
      },
      "execution_count": 40,
      "outputs": [
        {
          "output_type": "stream",
          "name": "stdout",
          "text": [
            "1 2 3\n",
            "4 5 6\n"
          ]
        }
      ]
    },
    {
      "cell_type": "code",
      "source": [
        "i=0\n",
        "while i<10:\n",
        "    print(i)\n",
        "    i+=1      #복합할당연산자(old에 1을 더해 new에 할당)"
      ],
      "metadata": {
        "colab": {
          "base_uri": "https://localhost:8080/"
        },
        "id": "WKmnSqHmmFEO",
        "outputId": "3abfbafd-7160-42c3-f70d-fb1a2ea3c8c0"
      },
      "execution_count": 41,
      "outputs": [
        {
          "output_type": "stream",
          "name": "stdout",
          "text": [
            "0\n",
            "1\n",
            "2\n",
            "3\n",
            "4\n",
            "5\n",
            "6\n",
            "7\n",
            "8\n",
            "9\n"
          ]
        }
      ]
    },
    {
      "cell_type": "code",
      "source": [
        "l1=[1,2,3,4,5]\n",
        "for x in l1: print(x)"
      ],
      "metadata": {
        "colab": {
          "base_uri": "https://localhost:8080/"
        },
        "id": "r7YRe2Q1mrMR",
        "outputId": "7a5e9f11-8cdc-44bb-c9e4-a32baba6fafa"
      },
      "execution_count": 42,
      "outputs": [
        {
          "output_type": "stream",
          "name": "stdout",
          "text": [
            "1\n",
            "2\n",
            "3\n",
            "4\n",
            "5\n"
          ]
        }
      ]
    },
    {
      "cell_type": "code",
      "source": [
        "l2=[[1,2],[3,4]]\n",
        "for x in l2:\n",
        "    print(x)\n",
        "    \n",
        "for x, y in l2:\n",
        "    print(x,y)"
      ],
      "metadata": {
        "colab": {
          "base_uri": "https://localhost:8080/"
        },
        "id": "8DBCq2JJmZoD",
        "outputId": "0c39f9bf-4ee9-4d87-bd3b-5ee7af2141ac"
      },
      "execution_count": 43,
      "outputs": [
        {
          "output_type": "stream",
          "name": "stdout",
          "text": [
            "[1, 2]\n",
            "[3, 4]\n",
            "1 2\n",
            "3 4\n"
          ]
        }
      ]
    },
    {
      "cell_type": "code",
      "source": [
        "d1={'name':'차수빈', 'program':'파이썬', 1:100}\n",
        "\n",
        "print(d1.items())  #리스트 안에 튜플\n",
        "print(d1.keys())   #리스트\n",
        "print(d1.values()) #리스트\n",
        "\n",
        "for key,val in d1.items():\n",
        "    print(key,val)"
      ],
      "metadata": {
        "colab": {
          "base_uri": "https://localhost:8080/"
        },
        "id": "EQhGZ7w8kB43",
        "outputId": "f5f1d2a0-a303-412b-b05f-558e81e8773c"
      },
      "execution_count": 44,
      "outputs": [
        {
          "output_type": "stream",
          "name": "stdout",
          "text": [
            "dict_items([('name', '차수빈'), ('program', '파이썬'), (1, 100)])\n",
            "dict_keys(['name', 'program', 1])\n",
            "dict_values(['차수빈', '파이썬', 100])\n",
            "name 차수빈\n",
            "program 파이썬\n",
            "1 100\n"
          ]
        }
      ]
    }
  ]
}