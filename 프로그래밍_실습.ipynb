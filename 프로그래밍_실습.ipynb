{
  "nbformat": 4,
  "nbformat_minor": 0,
  "metadata": {
    "colab": {
      "name": "프로그래밍 실습.ipynb",
      "provenance": [],
      "collapsed_sections": [
        "HnD5fX473K0I",
        "V0X19E0z6xYz",
        "-l_S9gZQ-IT3",
        "lB8tRbKWaDDv",
        "4rpBaCmH56D3",
        "LspBhUzkj_IZ",
        "9OLuWRPV9nft",
        "ldYidMpiCSyG"
      ],
      "authorship_tag": "ABX9TyP49iCPiGUajbYJLNM/V9go",
      "include_colab_link": true
    },
    "kernelspec": {
      "name": "python3",
      "display_name": "Python 3"
    },
    "language_info": {
      "name": "python"
    }
  },
  "cells": [
    {
      "cell_type": "markdown",
      "metadata": {
        "id": "view-in-github",
        "colab_type": "text"
      },
      "source": [
        "<a href=\"https://colab.research.google.com/github/engineercha/Python-study/blob/master/%ED%94%84%EB%A1%9C%EA%B7%B8%EB%9E%98%EB%B0%8D_%EC%8B%A4%EC%8A%B5.ipynb\" target=\"_parent\"><img src=\"https://colab.research.google.com/assets/colab-badge.svg\" alt=\"Open In Colab\"/></a>"
      ]
    },
    {
      "cell_type": "markdown",
      "source": [
        "코딩활용, 왕초보도 만드는 AI 자율주행자동차\n",
        "\n",
        "- ~~12회차 프로그래밍 개요~~\n",
        "- ~~13회차 파이썬 이해~~\n",
        "- ~~14회자 숫자와 문자~~\n",
        "- ~~15회차 bool형과 조건문~~\n",
        "- ~~16회차 리스트와 튜플~~\n",
        "- ~~17회차 딕셔너리~~\n",
        "- ~~18회차 언패킹과 반복문~~\n",
        "- ~~19회차 함수~~\n",
        "- ~~20회차 클래스~~\n",
        "- ~~21회차 라이브러리~~"
      ],
      "metadata": {
        "id": "p9SrB53vkOvr"
      }
    },
    {
      "cell_type": "markdown",
      "source": [
        "## 12강 파이썬\n",
        "\n",
        "\n",
        "\n"
      ],
      "metadata": {
        "id": "HnD5fX473K0I"
      }
    },
    {
      "cell_type": "markdown",
      "source": [
        "뱀을 형상화한 것\n",
        "\n",
        "1. 컴파일 언어와 스크립트 언어\n",
        "\n",
        "컴파일 언어: 코딩을 하면 컴파일 후 실행파일이 만들어지고 이 파일을 실행하는 형식\n",
        "스크립트 언어: 코딩을 하면 인터프리터가 바로 해석하고 실행할 수 있게 해줌, 문법에 제약이 없지만 실행이 조금 느리다는 단점\n",
        "\n",
        "2. 동적 타이핑\n",
        "\n",
        "자료형을 코드에 작성할 필요가 없지만, 컴퓨터가 자동으로 알아차려야 하기 떄문에 느리다는 단점\n",
        "\n",
        "3. 파이썬 자료형\n",
        "\n",
        "- 수치형: int, float, complex\n",
        "- 문자열: str\n",
        "- 튜플: tuple (내부적으로 값을 전달할 때 튜플을 사용)\n",
        "- 리스트: list (여러 값을 받음)\n",
        "- 사전: dict (키와 값이 하나의 데이터)\n",
        "집합: set\n",
        "\n",
        "list, dict, set은 mutable하고 tuple은 immutable함\n",
        "\n",
        "4. 변수\n",
        "\n",
        "변하는 수를 의미, a=1은 1이라는 값을 a라는 변수에 할당한다고 말함, 재사용과 재할당이 가능함\n",
        "\n",
        "메모리는 address와 공간으로 이루어짐, 컴퓨터 프로그램에서 존재한다는 것은 메모리에 있다는 뜻임, 변수는 메모리의 주소를 가르킴\n",
        "\n",
        "ex) 0000에 1이, 0001에 차수빈이라는 값이 저장돼는데 각 주소를 num과 name으로 이름 지어주면 변수 num을 사용하는 것은 값 1을 사용하는 것과 동일함"
      ],
      "metadata": {
        "id": "7RWyoVE1-FT4"
      }
    },
    {
      "cell_type": "markdown",
      "source": [
        "## 13강 숫자와 문자"
      ],
      "metadata": {
        "id": "V0X19E0z6xYz"
      }
    },
    {
      "cell_type": "markdown",
      "source": [
        "int(정수): 양의 정수, 0, 음의 정수\n",
        "\n",
        "float(정수가 아닌 유리수): 분수와 분수로 표현 가능한 소수"
      ],
      "metadata": {
        "id": "N4HKYJ1p66Vi"
      }
    },
    {
      "cell_type": "code",
      "source": [
        "apple=3"
      ],
      "metadata": {
        "id": "U-He3kDb6uY8"
      },
      "execution_count": 1,
      "outputs": []
    },
    {
      "cell_type": "code",
      "source": [
        "half_apple=2.5"
      ],
      "metadata": {
        "id": "Spu35c817cy0"
      },
      "execution_count": 2,
      "outputs": []
    },
    {
      "cell_type": "code",
      "source": [
        "print(apple+2, type(apple+2))\n",
        "print(apple+0.5, type(apple+0.5))\n",
        "print(half_apple+0.5, type(half_apple+0.5))"
      ],
      "metadata": {
        "colab": {
          "base_uri": "https://localhost:8080/"
        },
        "id": "2-xY5ErI7hVd",
        "outputId": "5b4f0922-76d4-40ca-b3fa-c68c13b14f82"
      },
      "execution_count": 3,
      "outputs": [
        {
          "output_type": "stream",
          "name": "stdout",
          "text": [
            "5 <class 'int'>\n",
            "3.5 <class 'float'>\n",
            "3.0 <class 'float'>\n"
          ]
        }
      ]
    },
    {
      "cell_type": "markdown",
      "source": [
        "- 정수형에 실수를 더하면 실수형이 됨\n",
        "- 실수형에 자연수가 되게 하는 실수를 더해도 정수형이 되지 않음"
      ],
      "metadata": {
        "id": "306BD-U78e4S"
      }
    },
    {
      "cell_type": "code",
      "source": [
        "one=1\n",
        "two=2\n",
        "one+two"
      ],
      "metadata": {
        "colab": {
          "base_uri": "https://localhost:8080/"
        },
        "id": "CCPl1HnF8u1r",
        "outputId": "ebf453f6-d7fd-4af8-c85a-61b4cef755c3"
      },
      "execution_count": 4,
      "outputs": [
        {
          "output_type": "execute_result",
          "data": {
            "text/plain": [
              "3"
            ]
          },
          "metadata": {},
          "execution_count": 4
        }
      ]
    },
    {
      "cell_type": "code",
      "source": [
        "str1='he said '\n",
        "str2='hello'\n",
        "str1+str2"
      ],
      "metadata": {
        "colab": {
          "base_uri": "https://localhost:8080/",
          "height": 35
        },
        "id": "cD6oenvz91uG",
        "outputId": "7651625b-c8f1-456b-e772-b4e8cfc5c194"
      },
      "execution_count": 5,
      "outputs": [
        {
          "output_type": "execute_result",
          "data": {
            "text/plain": [
              "'he said hello'"
            ],
            "application/vnd.google.colaboratory.intrinsic+json": {
              "type": "string"
            }
          },
          "metadata": {},
          "execution_count": 5
        }
      ]
    },
    {
      "cell_type": "code",
      "source": [
        "num1=10\n",
        "num2=3\n",
        "print(num1/num2)\n",
        "print(num1//num2) #몫\n",
        "print(num1%num2)  #나머지"
      ],
      "metadata": {
        "colab": {
          "base_uri": "https://localhost:8080/"
        },
        "id": "4btf_2De9FtT",
        "outputId": "c281d0b6-63a6-4887-f807-e6f2542f154e"
      },
      "execution_count": 6,
      "outputs": [
        {
          "output_type": "stream",
          "name": "stdout",
          "text": [
            "3.3333333333333335\n",
            "3\n",
            "1\n"
          ]
        }
      ]
    },
    {
      "cell_type": "code",
      "source": [
        "print('hello')\n",
        "print('he said \"hello\"')\n",
        "print('he said \\'hello\\'')"
      ],
      "metadata": {
        "colab": {
          "base_uri": "https://localhost:8080/"
        },
        "id": "LBofEa8F8FXc",
        "outputId": "b62e198b-4d5b-4c75-bb76-ad9d85348de2"
      },
      "execution_count": 7,
      "outputs": [
        {
          "output_type": "stream",
          "name": "stdout",
          "text": [
            "hello\n",
            "he said \"hello\"\n",
            "he said 'hello'\n"
          ]
        }
      ]
    },
    {
      "cell_type": "code",
      "source": [
        "name='차수빈'\n",
        "print(type(name))"
      ],
      "metadata": {
        "colab": {
          "base_uri": "https://localhost:8080/"
        },
        "id": "eGuoj-Vr9Ukb",
        "outputId": "e47da54c-86cd-4e61-f0a0-135b1d1816fa"
      },
      "execution_count": 8,
      "outputs": [
        {
          "output_type": "stream",
          "name": "stdout",
          "text": [
            "<class 'str'>\n"
          ]
        }
      ]
    },
    {
      "cell_type": "markdown",
      "source": [
        "## 14강 Bool형과 조건문"
      ],
      "metadata": {
        "id": "-l_S9gZQ-IT3"
      }
    },
    {
      "cell_type": "markdown",
      "source": [
        "1. Bool(진리값): True와 False, 첫글자는 대문자여야 함\n",
        "\n",
        "2. if조건문: 조건이 2개 이상이면 elif문이나 else문을 사용함, elif와 else는 혼자 쓸 수 없으며 else는 안 쓰거나 1번만 씀, elif문은 만약 위의 조건이 아니고 이번 조건이라면 실행하고 else문은 위의 조건이 아니면 실행(조건문이 없음)\n",
        "\n",
        "\n"
      ],
      "metadata": {
        "id": "AeQ9HZa7WslA"
      }
    },
    {
      "cell_type": "code",
      "source": [
        "t1=True\n",
        "f1=False\n",
        "print(t1,f1)\n",
        "print(type(t1),type(f1))"
      ],
      "metadata": {
        "colab": {
          "base_uri": "https://localhost:8080/"
        },
        "id": "H8GOuWuTWsKd",
        "outputId": "829b7dea-c8fb-4ae4-a03f-9a47f62bcd62"
      },
      "execution_count": 9,
      "outputs": [
        {
          "output_type": "stream",
          "name": "stdout",
          "text": [
            "True False\n",
            "<class 'bool'> <class 'bool'>\n"
          ]
        }
      ]
    },
    {
      "cell_type": "code",
      "source": [
        "print(1==1, 1!=1, 2<3, 2>3, 2<=3, 2>=3)"
      ],
      "metadata": {
        "colab": {
          "base_uri": "https://localhost:8080/"
        },
        "id": "2r9jdfd-YMBi",
        "outputId": "b9353dbc-1244-42fe-d008-65b702266332"
      },
      "execution_count": 10,
      "outputs": [
        {
          "output_type": "stream",
          "name": "stdout",
          "text": [
            "True False True False True False\n"
          ]
        }
      ]
    },
    {
      "cell_type": "markdown",
      "source": [
        "True 또는 False를 대입해도 되지만, 조건이 들어갔을 때도 자동으로 bool형으로 판단함"
      ],
      "metadata": {
        "id": "H5tNidZjYopA"
      }
    },
    {
      "cell_type": "code",
      "source": [
        "sun=False\n",
        "rain=True\n",
        "\n",
        "if sun:\n",
        "    print('사과를 따러 간다')\n",
        "elif rain:\n",
        "    print('집에 머문다')\n",
        "\n",
        "print('if의 영향을 받지 않고 무조건 출력')"
      ],
      "metadata": {
        "colab": {
          "base_uri": "https://localhost:8080/"
        },
        "id": "mItZ3SoUYlwK",
        "outputId": "bc74ba52-d466-42de-e91b-176820ffaf1e"
      },
      "execution_count": 11,
      "outputs": [
        {
          "output_type": "stream",
          "name": "stdout",
          "text": [
            "집에 머문다\n",
            "if의 영향을 받지 않고 무조건 출력\n"
          ]
        }
      ]
    },
    {
      "cell_type": "markdown",
      "source": [
        "다른 언어에서는 중괄호를 사용하는데 파이썬은 들여쓰기로 if문 안에 있는 코드블럭을 파악함"
      ],
      "metadata": {
        "id": "6AQrACC_ZFPm"
      }
    },
    {
      "cell_type": "markdown",
      "source": [
        "## 15강 리스트와 튜플"
      ],
      "metadata": {
        "id": "lB8tRbKWaDDv"
      }
    },
    {
      "cell_type": "markdown",
      "source": [
        "여러값을 한번에 저장하고 관리하는 자료형\n",
        "\n",
        "1. 리스트\n",
        "\n",
        "[객체, 객체, 객체]\n",
        "\n",
        "리스트에 객체의 메모리주소가 담김, 메모리주소가 반드시 연속일(순서대로일) 필요는 없음, 편하게 꺼내기(탐색하기) 위한 자료형임\n",
        "\n",
        "리스트와 튜플의 차이점은? 리스트는 언제든 객체를 넣었다 뺐다 할 수 있지만 ***튜플은 수정 불가능함(불변객체임)*** 보안을 위해 사용함\n",
        "\n",
        "\n",
        "2. 인덱싱\n",
        "\n",
        "순서가 있는 데이터타입에 사용 가능하며, 특정 객체를 사용하기 위해 그 객체의 순서(인덱스)를 사용하는 방법임\n",
        "\n",
        "- zero based indexing: 인덱스 번호가 0부터 시작함, 파이썬\n",
        "- one based indexing"
      ],
      "metadata": {
        "id": "JocQYyiL2PM7"
      }
    },
    {
      "cell_type": "code",
      "source": [
        "a=10\n",
        "b=20\n",
        "l1=[a,b] #대괄호 \n",
        "t1=(a,b) #소괄호\n",
        "l1,t1"
      ],
      "metadata": {
        "colab": {
          "base_uri": "https://localhost:8080/"
        },
        "id": "Rj79MDZaaFBO",
        "outputId": "ba99d419-10d1-4634-b68e-627b538d2ec0"
      },
      "execution_count": 12,
      "outputs": [
        {
          "output_type": "execute_result",
          "data": {
            "text/plain": [
              "([10, 20], (10, 20))"
            ]
          },
          "metadata": {},
          "execution_count": 12
        }
      ]
    },
    {
      "cell_type": "code",
      "source": [
        "c=l1,t1\n",
        "type(c)"
      ],
      "metadata": {
        "colab": {
          "base_uri": "https://localhost:8080/"
        },
        "id": "V5u0wAtu26VI",
        "outputId": "b2651c99-c97b-4272-86c1-d688d63904f6"
      },
      "execution_count": 13,
      "outputs": [
        {
          "output_type": "execute_result",
          "data": {
            "text/plain": [
              "tuple"
            ]
          },
          "metadata": {},
          "execution_count": 13
        }
      ]
    },
    {
      "cell_type": "code",
      "source": [
        "mylist=[1,2,3,4,5,6,7,8,9]\n",
        "mytuple=(1,2,3,4,5,6,7,8,9)\n",
        "\n",
        "print(mylist[0], mytuple[0])\n",
        "print(mylist[-1], mytuple[-1])\n",
        "print(mylist[-9], mytuple[-9])"
      ],
      "metadata": {
        "colab": {
          "base_uri": "https://localhost:8080/"
        },
        "id": "6_q9M5JL4zI9",
        "outputId": "4c93d70d-1877-42e2-c22a-6b8178e2ecee"
      },
      "execution_count": 14,
      "outputs": [
        {
          "output_type": "stream",
          "name": "stdout",
          "text": [
            "1 1\n",
            "9 9\n",
            "1 1\n"
          ]
        }
      ]
    },
    {
      "cell_type": "code",
      "source": [
        "mylist[-len(mylist)] #후진인덱싱에서 첫번째 요소의 인덱스는 데이터의 길이와 같음"
      ],
      "metadata": {
        "colab": {
          "base_uri": "https://localhost:8080/"
        },
        "id": "-gghGeVi5A-Y",
        "outputId": "8cbbe840-1628-4319-b187-d2112b4f9bdf"
      },
      "execution_count": 15,
      "outputs": [
        {
          "output_type": "execute_result",
          "data": {
            "text/plain": [
              "1"
            ]
          },
          "metadata": {},
          "execution_count": 15
        }
      ]
    },
    {
      "cell_type": "code",
      "source": [
        "nums=(1,2,3,4,5)\n",
        "\n",
        "for i in range(0,5): #0부터 4까지\n",
        "    print(nums[i])\n",
        "\n",
        "for i in range(-1,-6,-1): #-1부터 -5까지\n",
        "    print(nums[i])"
      ],
      "metadata": {
        "colab": {
          "base_uri": "https://localhost:8080/"
        },
        "id": "AGRjmunt3xK2",
        "outputId": "77ade14a-6501-4c3a-8dc0-8e5fd788cbc8"
      },
      "execution_count": 16,
      "outputs": [
        {
          "output_type": "stream",
          "name": "stdout",
          "text": [
            "1\n",
            "2\n",
            "3\n",
            "4\n",
            "5\n",
            "5\n",
            "4\n",
            "3\n",
            "2\n",
            "1\n"
          ]
        }
      ]
    },
    {
      "cell_type": "markdown",
      "source": [
        "## 16강 딕셔너리"
      ],
      "metadata": {
        "id": "4rpBaCmH56D3"
      }
    },
    {
      "cell_type": "markdown",
      "source": [
        "{키:값, 키:값, 키:값}\n",
        "\n",
        "중괄호 안에 key와 value를 넣는 자료형임, key값은 단일값을 주어야 함(수치형, 문자형 또는 그를 가르키는 변수), value는 리스트나 튜플을 주어도 됨\n",
        "- mutable함\n",
        "- 빠름: mapping 기법, hash 알고리즘을 사용하기 때문에 다량 데이터에 대해 list, tuple에 비해 매우 빨리 데이터를 탐색할 수 있음\n",
        "- key가 중복되면 값이 마지막 것으로 덮어씌워짐"
      ],
      "metadata": {
        "id": "sG2jTgsi9W93"
      }
    },
    {
      "cell_type": "code",
      "source": [
        "d1={'name':'차수빈', 1:'one', 2:'two', 'list':[1,2,3], 'tuple':(1,2,3)}\n",
        "print(d1)\n",
        "print(d1['name']) \n",
        "print(d1[1]) #인덱싱 아님, 그저 key를 사용한 탐색임\n",
        "print(d1[2]) "
      ],
      "metadata": {
        "colab": {
          "base_uri": "https://localhost:8080/"
        },
        "id": "ynzoPDDo-R4q",
        "outputId": "931c46a0-54c2-4249-b65d-675ed9e8d9f4"
      },
      "execution_count": 17,
      "outputs": [
        {
          "output_type": "stream",
          "name": "stdout",
          "text": [
            "{'name': '차수빈', 1: 'one', 2: 'two', 'list': [1, 2, 3], 'tuple': (1, 2, 3)}\n",
            "차수빈\n",
            "one\n",
            "two\n"
          ]
        }
      ]
    },
    {
      "cell_type": "code",
      "source": [
        "#추가\n",
        "d1['program']='python'\n",
        "print(d1)\n",
        "print(d1['program'])"
      ],
      "metadata": {
        "colab": {
          "base_uri": "https://localhost:8080/"
        },
        "id": "s4V7FBv1_mDZ",
        "outputId": "95017973-10d4-4058-e08d-8c44b67b3797"
      },
      "execution_count": 18,
      "outputs": [
        {
          "output_type": "stream",
          "name": "stdout",
          "text": [
            "{'name': '차수빈', 1: 'one', 2: 'two', 'list': [1, 2, 3], 'tuple': (1, 2, 3), 'program': 'python'}\n",
            "python\n"
          ]
        }
      ]
    },
    {
      "cell_type": "code",
      "source": [
        "#삭제\n",
        "del d1['program']\n",
        "print(d1)"
      ],
      "metadata": {
        "colab": {
          "base_uri": "https://localhost:8080/"
        },
        "id": "9JBL3YDh_xrt",
        "outputId": "90400eea-d336-458e-f6a5-0306a75f5341"
      },
      "execution_count": 19,
      "outputs": [
        {
          "output_type": "stream",
          "name": "stdout",
          "text": [
            "{'name': '차수빈', 1: 'one', 2: 'two', 'list': [1, 2, 3], 'tuple': (1, 2, 3)}\n"
          ]
        }
      ]
    },
    {
      "cell_type": "code",
      "source": [
        "d2={1:'a', 1:'b', 1:'c'}\n",
        "print(d2)"
      ],
      "metadata": {
        "colab": {
          "base_uri": "https://localhost:8080/"
        },
        "id": "ITHZUkgs_7U0",
        "outputId": "d7b7fc9f-2ab3-4cff-d275-02a9a5b6f9c1"
      },
      "execution_count": 20,
      "outputs": [
        {
          "output_type": "stream",
          "name": "stdout",
          "text": [
            "{1: 'c'}\n"
          ]
        }
      ]
    },
    {
      "cell_type": "markdown",
      "source": [
        "## 17강 언패킹과 반복문"
      ],
      "metadata": {
        "id": "LspBhUzkj_IZ"
      }
    },
    {
      "cell_type": "markdown",
      "source": [
        "언패킹\n",
        "\n",
        "tuple, list, dic는 언패킹할 수 있음, 패킹이 자동으로 이뤄졌을 때만 언패킹을 사용할 수 있음\n",
        "\n",
        "반복문\n",
        "\n",
        "크게 while과 for로 나뉨 \n",
        "\n",
        "1. while은 조건이 참일 동안 실행문을 반복함, 조건이 계속 참이면 while문이 끝나지 않고 이를 무한루프라 함, 조건은 반드시 거짓이 되도록 만들야 함\n",
        "2. for은 가변수와 반복자(반복할 데이터)로 구성됨\n",
        "- [1,2,3,4] 이면 앞에서부터 하나씩 차례대로 꺼내서 가변수에 저장 후 실행문에서 처리함, 더이상 꺼낼 게 없을 때 반복을 종료\n",
        "- [(1,2),(3,4)] 같은 경우 (1,2)과 (3,4)가 아니라 1,2,3,4를 직접적으로 쓰고 싶을 수 있음, 가변수를 2개 쓸 수 있음\n",
        "- [(1,2,3),(4,5,6)] 이면 가변수 3개를 쓸 수 있음"
      ],
      "metadata": {
        "id": "IqDHM-oRkK8U"
      }
    },
    {
      "cell_type": "code",
      "source": [
        "for x,y,z in [[1,2,3],[4,5,6]]:\n",
        "    print(x, end=' ')\n",
        "    print(y, end=' ')\n",
        "    print(z)"
      ],
      "metadata": {
        "colab": {
          "base_uri": "https://localhost:8080/"
        },
        "id": "Srev2pJinVDr",
        "outputId": "e5c683c5-dd60-4750-8c5e-62ec6a071394"
      },
      "execution_count": 21,
      "outputs": [
        {
          "output_type": "stream",
          "name": "stdout",
          "text": [
            "1 2 3\n",
            "4 5 6\n"
          ]
        }
      ]
    },
    {
      "cell_type": "code",
      "source": [
        "i=0\n",
        "while i<10:\n",
        "    print(i)\n",
        "    i+=1      #복합할당연산자(old에 1을 더해 new에 할당)"
      ],
      "metadata": {
        "colab": {
          "base_uri": "https://localhost:8080/"
        },
        "id": "WKmnSqHmmFEO",
        "outputId": "1b862f49-f3ce-4bd5-bb4b-86eb4f7b157f"
      },
      "execution_count": 22,
      "outputs": [
        {
          "output_type": "stream",
          "name": "stdout",
          "text": [
            "0\n",
            "1\n",
            "2\n",
            "3\n",
            "4\n",
            "5\n",
            "6\n",
            "7\n",
            "8\n",
            "9\n"
          ]
        }
      ]
    },
    {
      "cell_type": "code",
      "source": [
        "l1=[1,2,3,4,5]\n",
        "for x in l1: print(x)"
      ],
      "metadata": {
        "colab": {
          "base_uri": "https://localhost:8080/"
        },
        "id": "r7YRe2Q1mrMR",
        "outputId": "f00cbb73-d72f-41d4-d6d8-0fd3df77057a"
      },
      "execution_count": 23,
      "outputs": [
        {
          "output_type": "stream",
          "name": "stdout",
          "text": [
            "1\n",
            "2\n",
            "3\n",
            "4\n",
            "5\n"
          ]
        }
      ]
    },
    {
      "cell_type": "code",
      "source": [
        "l2=[[1,2],[3,4]]\n",
        "for x in l2:\n",
        "    print(x)\n",
        "    \n",
        "for x, y in l2:\n",
        "    print(x,y)"
      ],
      "metadata": {
        "colab": {
          "base_uri": "https://localhost:8080/"
        },
        "id": "8DBCq2JJmZoD",
        "outputId": "ceea11c2-4b6a-4b78-b3ed-d4fad8af465e"
      },
      "execution_count": 24,
      "outputs": [
        {
          "output_type": "stream",
          "name": "stdout",
          "text": [
            "[1, 2]\n",
            "[3, 4]\n",
            "1 2\n",
            "3 4\n"
          ]
        }
      ]
    },
    {
      "cell_type": "code",
      "source": [
        "d1={'name':'차수빈', 'program':'파이썬', 1:100}\n",
        "\n",
        "print(d1.items())  #리스트 안에 튜플\n",
        "print(d1.keys())   #리스트\n",
        "print(d1.values()) #리스트\n",
        "\n",
        "for key,val in d1.items():\n",
        "    print(key,val)"
      ],
      "metadata": {
        "colab": {
          "base_uri": "https://localhost:8080/"
        },
        "id": "EQhGZ7w8kB43",
        "outputId": "7f313653-8454-4165-d0b9-ce351333c3fe"
      },
      "execution_count": 25,
      "outputs": [
        {
          "output_type": "stream",
          "name": "stdout",
          "text": [
            "dict_items([('name', '차수빈'), ('program', '파이썬'), (1, 100)])\n",
            "dict_keys(['name', 'program', 1])\n",
            "dict_values(['차수빈', '파이썬', 100])\n",
            "name 차수빈\n",
            "program 파이썬\n",
            "1 100\n"
          ]
        }
      ]
    },
    {
      "cell_type": "markdown",
      "source": [
        "## 18강 함수"
      ],
      "metadata": {
        "id": "9OLuWRPV9nft"
      }
    },
    {
      "cell_type": "markdown",
      "source": [
        "작업들의 모음, 한번에 실행함\n",
        "\n",
        "- 정의와 호출\n",
        "- 파라미터는 함수가 사용할 형식 매개변수\n",
        "- 반환값은 함수가 return하는 값, 여러 개일 수 있음, return을 생략하는 경우 return None이 자동으로 실행\n",
        "- 아규먼트는 함수에 넘겨주는 실 매개변수, 파라미터보다 적거나 많이 넣으면 에러 남\n",
        "- 값을 주는 방식엔 positional, keyword, default가 있음, positional 방식은 파라미터 순서를 맞춰야 함\n"
      ],
      "metadata": {
        "id": "xbeJGeE59qgb"
      }
    },
    {
      "cell_type": "code",
      "source": [
        "def say_name():\n",
        "    print('차수빈')\n",
        "\n",
        "say_name()"
      ],
      "metadata": {
        "colab": {
          "base_uri": "https://localhost:8080/"
        },
        "id": "hqbJYfwZ-Yxg",
        "outputId": "331ba452-761b-4da6-d1d0-419a6c388d6f"
      },
      "execution_count": 26,
      "outputs": [
        {
          "output_type": "stream",
          "name": "stdout",
          "text": [
            "차수빈\n"
          ]
        }
      ]
    },
    {
      "cell_type": "code",
      "source": [
        "def add(x,y):\n",
        "    print(x+y)"
      ],
      "metadata": {
        "id": "s5QN6bd-AIIW"
      },
      "execution_count": 27,
      "outputs": []
    },
    {
      "cell_type": "code",
      "source": [
        "add(1,3)"
      ],
      "metadata": {
        "colab": {
          "base_uri": "https://localhost:8080/"
        },
        "id": "OLVgMD2DAP9C",
        "outputId": "197117ff-b68c-4d12-8f00-a03d93040233"
      },
      "execution_count": 28,
      "outputs": [
        {
          "output_type": "stream",
          "name": "stdout",
          "text": [
            "4\n"
          ]
        }
      ]
    },
    {
      "cell_type": "code",
      "source": [
        "def add2(x,y):\n",
        "    return x+y, x"
      ],
      "metadata": {
        "id": "PZOhYaHK954e"
      },
      "execution_count": 29,
      "outputs": []
    },
    {
      "cell_type": "code",
      "source": [
        "add2(1,3) #packing해서 튜플로 반환함"
      ],
      "metadata": {
        "colab": {
          "base_uri": "https://localhost:8080/"
        },
        "id": "ywkhh3fsAUVI",
        "outputId": "9772f0ce-9a97-4ba9-f185-e83fe63fb0f8"
      },
      "execution_count": 30,
      "outputs": [
        {
          "output_type": "execute_result",
          "data": {
            "text/plain": [
              "(4, 1)"
            ]
          },
          "metadata": {},
          "execution_count": 30
        }
      ]
    },
    {
      "cell_type": "code",
      "source": [
        "add2(*[1,3]) #명시적 unpacking으로 값을 줌"
      ],
      "metadata": {
        "colab": {
          "base_uri": "https://localhost:8080/"
        },
        "id": "l2x2zycQAQpk",
        "outputId": "92020e87-5f79-4c82-ecd8-e46c44532133"
      },
      "execution_count": 31,
      "outputs": [
        {
          "output_type": "execute_result",
          "data": {
            "text/plain": [
              "(4, 1)"
            ]
          },
          "metadata": {},
          "execution_count": 31
        }
      ]
    },
    {
      "cell_type": "markdown",
      "source": [
        "1. add([1,3])을 하면 missing 1 required positioanl argument: 'y'라는 에러가 남\n",
        "2. unpacking 할 때 list, tuple은 별 1개, dict는 별 2개"
      ],
      "metadata": {
        "id": "J1wbT1CSBCm2"
      }
    },
    {
      "cell_type": "code",
      "source": [
        "def add3(x,y=3):\n",
        "    return x+y"
      ],
      "metadata": {
        "id": "Dw09hKyUCDsy"
      },
      "execution_count": 32,
      "outputs": []
    },
    {
      "cell_type": "code",
      "source": [
        "add3(1)"
      ],
      "metadata": {
        "colab": {
          "base_uri": "https://localhost:8080/"
        },
        "id": "_xSfmEq4CKSx",
        "outputId": "edc0c7fd-ffe2-4de6-c6cf-6e26868b6987"
      },
      "execution_count": 33,
      "outputs": [
        {
          "output_type": "execute_result",
          "data": {
            "text/plain": [
              "4"
            ]
          },
          "metadata": {},
          "execution_count": 33
        }
      ]
    },
    {
      "cell_type": "markdown",
      "source": [
        "## 19강 클래스"
      ],
      "metadata": {
        "id": "ldYidMpiCSyG"
      }
    },
    {
      "cell_type": "markdown",
      "source": [
        "### 1. 클래스 호출\n",
        "\n",
        "- 인스턴스: class를 만든 object\n",
        "- 인스턴스화: class로 object를 생성하는 것, class를 call함으로써\n",
        "\n",
        "### 2. 던더\n",
        "\n",
        "클래스는 값이나 기능을 가짐, 일반적으로 값은 속성값, 기능은 메소드(class 안에 있는 함수)라고 부름\n",
        "\n",
        "\\_\\_init__( ): 앞뒤로 더블 언더바가 불었을 때 던더라고 함\n",
        "\n",
        "### 3. 메소드\n",
        "\n",
        "***메소드란 class 안에 정의된 함수임***\n",
        "\n",
        "스크립트 언어에선 인터프리터가 코드를 해석하고 실행하는데, 인터프리터가 사용하는 함수가 던더 메소드임, 더블 언더바가 붙은 함수는 자동으로 쓰기 때문에 매직 메소드라고도 함\n",
        "\n",
        "### 4. def \\_\\_init__(self,x,y):\n",
        "\n",
        "- ***던더이닛은 객체를 생성할 때 초기화함***\n",
        "- self, x, y는 변수로서 값을 받음\n",
        "- self는 관용적 표현\n",
        "- self에는 실행하는 객체가 들어가는데, self.x와 self.y로 지금 쓰고 있는 객체의 x고 y임을 설정해주는 것임\n",
        "- 객체 안에 있는 x, y값을 가져다 쓰기 위해 파라미터에 self를 써줘야 함\n"
      ],
      "metadata": {
        "id": "NaQza4ZMCj4J"
      }
    },
    {
      "cell_type": "code",
      "source": [
        "class arith_operation:\n",
        "    def __init__(self,x,y):\n",
        "        self.x=x\n",
        "        self.x=y\n",
        "\n",
        "    def add(self):\n",
        "        return self.x+self.y  "
      ],
      "metadata": {
        "id": "wcQJS5kNCgcN"
      },
      "execution_count": 34,
      "outputs": []
    },
    {
      "cell_type": "code",
      "source": [
        "class Person:\n",
        "    def __init__(self,x,y):     #instance method(=instance가 사용하는 method)\n",
        "        self.foot=x             #self를 써줘야 함(=안 쓰는 경우는 class method)\n",
        "        self.hand=y\n",
        "        print('객체가 생성됩니다!')\n",
        "\n",
        "    def eat(self):\n",
        "        print('밥을 먹습니다!')"
      ],
      "metadata": {
        "id": "MY5uL-4Nj2F3"
      },
      "execution_count": 35,
      "outputs": []
    },
    {
      "cell_type": "markdown",
      "source": [
        "1: 지금부터 class code block이다~\n",
        "\n",
        "2: 던더는 인터프리터가 사용한다~ 안 써도 되지만 없으면 객체가 생성되지 않는다~\n",
        "\n",
        "5: print는 init 안에 있고, init은 class 안에 있다~"
      ],
      "metadata": {
        "id": "BgbBIE-Dj_I-"
      }
    },
    {
      "cell_type": "code",
      "source": [
        "val=Person(1,2) #생성된 객체가 val 변수에 저장됨\n",
        "print(val)\n",
        "print(val.foot)\n",
        "print(val.hand)\n",
        "print(val.eat()) #메소드"
      ],
      "metadata": {
        "colab": {
          "base_uri": "https://localhost:8080/"
        },
        "id": "LkZTubOGkhmd",
        "outputId": "00fe7f5f-5e11-444b-bea0-5a799f045bda"
      },
      "execution_count": 36,
      "outputs": [
        {
          "output_type": "stream",
          "name": "stdout",
          "text": [
            "객체가 생성됩니다!\n",
            "<__main__.Person object at 0x7f721c8cce90>\n",
            "1\n",
            "2\n",
            "밥을 먹습니다!\n",
            "None\n"
          ]
        }
      ]
    },
    {
      "cell_type": "markdown",
      "source": [
        "던더메인이 보인다는 것은 내가 현재 파일에서 실행하고 있다는 의미, 메모리 주소를 보여줌"
      ],
      "metadata": {
        "id": "sRvXMKhSktsy"
      }
    },
    {
      "cell_type": "markdown",
      "source": [
        "## 20강 라이브러리"
      ],
      "metadata": {
        "id": "oXaih3Z6nRLg"
      }
    },
    {
      "cell_type": "markdown",
      "source": [
        "표준 라이브러리(PSL)\n",
        "\n",
        "- 모듈: 확장 가능한 py\n",
        "- 패키지: 모듈을 폴더로 모은 것\n",
        "- 라이브러리: 패키지를 다시 폴더로 모은 것, import로 사용 가능함\n",
        "\n",
        "- sample.py: 변수, 함수, 클래스일 수 있음\n",
        "- main.py: sample.py에 있는 데이터가 필요해지면 import sample 할 수 있음, 코드를 작성하지 않고도 자동으로 가져옴"
      ],
      "metadata": {
        "id": "vPZnTxe3nXbU"
      }
    },
    {
      "cell_type": "code",
      "source": [
        "import random\n",
        "print(random.randint(1,100)) #def randint(a,b):는 a,b를 int로 주면 int를 반환함"
      ],
      "metadata": {
        "colab": {
          "base_uri": "https://localhost:8080/"
        },
        "id": "wHoy4Cc7qLZy",
        "outputId": "c1398a35-9b3c-438d-a391-81fbde1803ce"
      },
      "execution_count": 37,
      "outputs": [
        {
          "output_type": "stream",
          "name": "stdout",
          "text": [
            "84\n"
          ]
        }
      ]
    },
    {
      "cell_type": "markdown",
      "source": [
        "from import를 쓰면 더 간편하게 사용할 수 있음"
      ],
      "metadata": {
        "id": "0t3mIph8rAPb"
      }
    },
    {
      "cell_type": "code",
      "source": [
        "from random import randint\n",
        "print(randint(1,100))"
      ],
      "metadata": {
        "colab": {
          "base_uri": "https://localhost:8080/"
        },
        "id": "XJCU_4MpqM1X",
        "outputId": "e65995ad-b5c0-4149-b214-da106f34e917"
      },
      "execution_count": 38,
      "outputs": [
        {
          "output_type": "stream",
          "name": "stdout",
          "text": [
            "1\n"
          ]
        }
      ]
    },
    {
      "cell_type": "code",
      "source": [
        "from pylab import *\n",
        "\n",
        "t=arange(0.0, 2.0, 0.01) #0부터 2까지 0.01 간격으로\n",
        "s=sin(2*pi*t)\n",
        "\n",
        "plot(t,s)\n",
        "grid(True)\n",
        "show()"
      ],
      "metadata": {
        "colab": {
          "base_uri": "https://localhost:8080/",
          "height": 265
        },
        "id": "SU2K3NwcrIXs",
        "outputId": "2e1808e6-66b0-48a0-e9df-89e52170a5be"
      },
      "execution_count": 39,
      "outputs": [
        {
          "output_type": "display_data",
          "data": {
            "text/plain": [
              "<Figure size 432x288 with 1 Axes>"
            ],
            "image/png": "[encoded data removed]"
          },
          "metadata": {
            "needs_background": "light"
          }
        }
      ]
    },
    {
      "cell_type": "code",
      "source": [
        "from matplotlib.pyplot import *\n",
        "from random import randint\n",
        "\n",
        "lst=[]\n",
        "for i in range(2000): lst.append(randint(1,100))\n",
        "\n",
        "hist(lst)\n",
        "show()"
      ],
      "metadata": {
        "colab": {
          "base_uri": "https://localhost:8080/",
          "height": 265
        },
        "id": "bV19UU_4prD7",
        "outputId": "bbf750ec-73aa-4c5a-bd21-45e43249105d"
      },
      "execution_count": 40,
      "outputs": [
        {
          "output_type": "display_data",
          "data": {
            "text/plain": [
              "<Figure size 432x288 with 1 Axes>"
            ],
            "image/png": "[encoded data removed]"
          },
          "metadata": {
            "needs_background": "light"
          }
        }
      ]
    }
  ]
}