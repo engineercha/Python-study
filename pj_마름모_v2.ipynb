{
  "nbformat": 4,
  "nbformat_minor": 0,
  "metadata": {
    "colab": {
      "name": "pj_마름모.ipynb",
      "provenance": [],
      "collapsed_sections": [],
      "authorship_tag": "ABX9TyMrtan3Rv4Tomi1ciiz/xCl",
      "include_colab_link": true
    },
    "kernelspec": {
      "name": "python3",
      "display_name": "Python 3"
    },
    "language_info": {
      "name": "python"
    }
  },
  "cells": [
    {
      "cell_type": "markdown",
      "metadata": {
        "id": "view-in-github",
        "colab_type": "text"
      },
      "source": [
        "<a href=\"https://colab.research.google.com/github/engineercha/Python-study/blob/master/pj_%EB%A7%88%EB%A6%84%EB%AA%A8_v2.ipynb\" target=\"_parent\"><img src=\"https://colab.research.google.com/assets/colab-badge.svg\" alt=\"Open In Colab\"/></a>"
      ]
    },
    {
      "cell_type": "code",
      "metadata": {
        "colab": {
          "base_uri": "https://localhost:8080/"
        },
        "id": "VcdpepNGRd5z",
        "outputId": "617cf6e2-8f12-4907-b079-aa52b55b44c7"
      },
      "source": [
        "#마름모 출력 부분\n",
        "def 마름모(n):\n",
        "    i=0\n",
        "    if n%2==0: half=n/2\n",
        "    else: half=n//2\n",
        "\n",
        "    while i<n:\n",
        "        if i<half:      #상부(삼각형)\n",
        "            k=0\n",
        "            while k<half-i: print('  ',end=''); k+=1\n",
        "            k=0\n",
        "            while k<2*i+1: print('\\u2605',end=''); k+=1\n",
        "    \n",
        "        else:\n",
        "            k=0         #하부(역삼각형)\n",
        "            if n%2==0:\n",
        "                while k<i-half+1: print('  ',end=''); k+=1\n",
        "            else:\n",
        "                while k<i-half: print('  ',end=''); k+=1\n",
        "            k=0\n",
        "            while k<2*(n-i)-1: print('\\u2605',end=''); k+=1\n",
        "        print()\n",
        "        i+=1\n",
        "\n",
        "#메인코드\n",
        "print(\"1) 0 입력시 종료\\n2) 홀수 입력 권장\\n\")\n",
        "while True:\n",
        "    n=int(input(\"마름모의 대각선 길이를 입력하세요: \"))\n",
        "    if n==0: break\n",
        "    else: 마름모(n)\n",
        "print(\"프로그램 종료\")"
      ],
      "execution_count": 23,
      "outputs": [
        {
          "output_type": "stream",
          "text": [
            "1) 0 입력시 종료\n",
            "2) 홀수 입력 권장\n",
            "\n",
            "마름모의 대각선 길이를 입력하세요: 24\n",
            "                        ★\n",
            "                      ★★★\n",
            "                    ★★★★★\n",
            "                  ★★★★★★★\n",
            "                ★★★★★★★★★\n",
            "              ★★★★★★★★★★★\n",
            "            ★★★★★★★★★★★★★\n",
            "          ★★★★★★★★★★★★★★★\n",
            "        ★★★★★★★★★★★★★★★★★\n",
            "      ★★★★★★★★★★★★★★★★★★★\n",
            "    ★★★★★★★★★★★★★★★★★★★★★\n",
            "  ★★★★★★★★★★★★★★★★★★★★★★★\n",
            "  ★★★★★★★★★★★★★★★★★★★★★★★\n",
            "    ★★★★★★★★★★★★★★★★★★★★★\n",
            "      ★★★★★★★★★★★★★★★★★★★\n",
            "        ★★★★★★★★★★★★★★★★★\n",
            "          ★★★★★★★★★★★★★★★\n",
            "            ★★★★★★★★★★★★★\n",
            "              ★★★★★★★★★★★\n",
            "                ★★★★★★★★★\n",
            "                  ★★★★★★★\n",
            "                    ★★★★★\n",
            "                      ★★★\n",
            "                        ★\n",
            "마름모의 대각선 길이를 입력하세요: 13\n",
            "            ★\n",
            "          ★★★\n",
            "        ★★★★★\n",
            "      ★★★★★★★\n",
            "    ★★★★★★★★★\n",
            "  ★★★★★★★★★★★\n",
            "★★★★★★★★★★★★★\n",
            "  ★★★★★★★★★★★\n",
            "    ★★★★★★★★★\n",
            "      ★★★★★★★\n",
            "        ★★★★★\n",
            "          ★★★\n",
            "            ★\n",
            "마름모의 대각선 길이를 입력하세요: 0\n",
            "프로그램 종료\n"
          ],
          "name": "stdout"
        }
      ]
    }
  ]
}